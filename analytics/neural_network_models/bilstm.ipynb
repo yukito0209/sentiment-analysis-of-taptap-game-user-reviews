{
 "cells": [
  {
   "cell_type": "code",
   "execution_count": 1,
   "id": "2cafa1ca",
   "metadata": {},
   "outputs": [],
   "source": [
    "import pandas as pd\n",
    "import numpy as np\n",
    "import matplotlib.pyplot as plt\n",
    "import seaborn as sns\n",
    "import time\n",
    "import re # For basic text cleaning\n",
    "from sklearn.model_selection import train_test_split\n",
    "from sklearn.metrics import classification_report, confusion_matrix\n",
    "\n",
    "# Import TensorFlow and Keras components\n",
    "import tensorflow as tf\n",
    "from tensorflow.keras.preprocessing.text import Tokenizer\n",
    "from tensorflow.keras.preprocessing.sequence import pad_sequences\n",
    "from tensorflow.keras.models import Sequential\n",
    "from tensorflow.keras.layers import Embedding, Bidirectional, LSTM, Dense, Dropout, SpatialDropout1D\n",
    "from tensorflow.keras.callbacks import EarlyStopping"
   ]
  },
  {
   "cell_type": "code",
   "execution_count": 2,
   "id": "88b92be6",
   "metadata": {},
   "outputs": [],
   "source": [
    "# --- Configuration ---\n",
    "file_path = r'D:\\GitHubRepos\\is6941-ml-social-media\\taptap\\data\\integrated\\cleaned_taptap_reviews.csv'\n",
    "text_column = 'review_content' # Column with text reviews\n",
    "target_column = 'sentiment'    # Column with sentiment labels\n",
    "test_size = 0.2\n",
    "random_state = 42\n",
    "\n",
    "# --- BiLSTM Model Hyperparameters ---\n",
    "VOCAB_SIZE = 20000   # Max number of words to keep in the vocabulary\n",
    "MAX_LEN = 200        # Max length of sequences (pad/truncate reviews to this length)\n",
    "EMBEDDING_DIM = 256  # Dimension of word embeddings\n",
    "LSTM_UNITS = 128     # Number of units in the LSTM layer\n",
    "DROPOUT_RATE = 0.7   # Dropout rate for regularization\n",
    "EPOCHS = 20          # Max number of training epochs\n",
    "BATCH_SIZE = 512     # Batch size for training"
   ]
  },
  {
   "cell_type": "code",
   "execution_count": 3,
   "id": "9e600901",
   "metadata": {},
   "outputs": [
    {
     "name": "stdout",
     "output_type": "stream",
     "text": [
      "开始加载数据: D:\\GitHubRepos\\is6941-ml-social-media\\taptap\\data\\integrated\\cleaned_taptap_reviews.csv\n",
      "数据加载成功，总行数: 39985\n",
      "\n",
      "处理必要列的缺失值后，剩余行数: 39985\n",
      "\n",
      "数据信息 (选择的列):\n",
      "<class 'pandas.core.frame.DataFrame'>\n",
      "RangeIndex: 39985 entries, 0 to 39984\n",
      "Data columns (total 2 columns):\n",
      " #   Column          Non-Null Count  Dtype \n",
      "---  ------          --------------  ----- \n",
      " 0   review_content  39985 non-null  object\n",
      " 1   sentiment       39985 non-null  int32 \n",
      "dtypes: int32(1), object(1)\n",
      "memory usage: 468.7+ KB\n",
      "\n",
      "目标变量 'sentiment' 分布:\n",
      "sentiment\n",
      "1    0.659072\n",
      "0    0.340928\n",
      "Name: proportion, dtype: float64\n"
     ]
    }
   ],
   "source": [
    "# --- 1. Load Data ---\n",
    "print(f\"开始加载数据: {file_path}\")\n",
    "try:\n",
    "    df = pd.read_csv(file_path)\n",
    "    print(f\"数据加载成功，总行数: {len(df)}\")\n",
    "    # Select only necessary columns\n",
    "    df = df[[text_column, target_column]].copy()\n",
    "\n",
    "    # Basic Missing Value Handling\n",
    "    df[text_column] = df[text_column].fillna('') # Fill missing reviews\n",
    "    df.dropna(subset=[target_column], inplace=True) # Drop rows where target is missing\n",
    "    print(f\"\\n处理必要列的缺失值后，剩余行数: {len(df)}\")\n",
    "\n",
    "    # Ensure target column is integer type\n",
    "    df[target_column] = df[target_column].astype(int)\n",
    "\n",
    "    print(\"\\n数据信息 (选择的列):\")\n",
    "    df.info()\n",
    "    print(f\"\\n目标变量 '{target_column}' 分布:\")\n",
    "    print(df[target_column].value_counts(normalize=True))\n",
    "\n",
    "except FileNotFoundError:\n",
    "    print(f\"错误: 文件未找到 {file_path}\")\n",
    "    exit()\n",
    "except Exception as e:\n",
    "    print(f\"加载或初步处理数据时发生错误: {e}\")\n",
    "    exit()\n",
    "\n",
    "# --- Optional: Basic Text Cleaning (Example) ---\n",
    "def clean_text(text):\n",
    "    text = str(text).lower() # Lowercase\n",
    "    text = re.sub(r'<.*?>', '', text) # Remove HTML tags\n",
    "    text = re.sub(r'[^a-z0-9\\s\\u4e00-\\u9fff]', '', text) # Keep alphanumeric, spaces, and Chinese characters\n",
    "    text = re.sub(r'\\s+', ' ', text).strip() # Remove extra whitespace\n",
    "    return text\n",
    "\n",
    "# print(\"\\n开始文本清洗...\")\n",
    "# df[text_column] = df[text_column].apply(clean_text)\n",
    "# print(\"文本清洗完成。\")\n",
    "# Note: Cleaning might remove important punctuation or emojis depending on the regex.\n",
    "# Consider using a dedicated Chinese tokenizer like jieba if needed for better word segmentation."
   ]
  },
  {
   "cell_type": "code",
   "execution_count": 4,
   "id": "361e2969",
   "metadata": {},
   "outputs": [],
   "source": [
    "# --- 2. Prepare Features and Target ---\n",
    "X = df[text_column].values\n",
    "y = df[target_column].values"
   ]
  },
  {
   "cell_type": "code",
   "execution_count": 5,
   "id": "69daa520",
   "metadata": {},
   "outputs": [
    {
     "name": "stdout",
     "output_type": "stream",
     "text": [
      "\n",
      "划分数据集，测试集比例: 0.2\n",
      "训练集大小: 31988, 测试集大小: 7997\n"
     ]
    }
   ],
   "source": [
    "# --- 3. Split Data ---\n",
    "print(f\"\\n划分数据集，测试集比例: {test_size}\")\n",
    "X_train, X_test, y_train, y_test = train_test_split(\n",
    "    X, y,\n",
    "    test_size=test_size,\n",
    "    random_state=random_state,\n",
    "    stratify=y\n",
    ")\n",
    "print(f\"训练集大小: {X_train.shape[0]}, 测试集大小: {X_test.shape[0]}\")"
   ]
  },
  {
   "cell_type": "code",
   "execution_count": 6,
   "id": "ff77bb6f",
   "metadata": {},
   "outputs": [
    {
     "name": "stdout",
     "output_type": "stream",
     "text": [
      "\n",
      "开始文本预处理 (Tokenization 和 Padding)...\n",
      "词汇表大小 (实际): 61764\n",
      "处理后训练数据维度: (31988, 200)\n",
      "处理后测试数据维度: (7997, 200)\n",
      "文本预处理完成。\n"
     ]
    }
   ],
   "source": [
    "# --- 4. Text Preprocessing (Tokenization & Padding) ---\n",
    "print(\"\\n开始文本预处理 (Tokenization 和 Padding)...\")\n",
    "# Initialize Tokenizer\n",
    "tokenizer = Tokenizer(num_words=VOCAB_SIZE, oov_token=\"<OOV>\") # <OOV> handles words not in vocabulary\n",
    "\n",
    "# Fit Tokenizer ONLY on training data\n",
    "tokenizer.fit_on_texts(X_train)\n",
    "word_index = tokenizer.word_index\n",
    "vocab_size = len(word_index) + 1 # +1 for padding token 0\n",
    "print(f\"词汇表大小 (实际): {vocab_size}\") # Can be smaller than VOCAB_SIZE\n",
    "\n",
    "# Convert text to sequences of integers\n",
    "X_train_seq = tokenizer.texts_to_sequences(X_train)\n",
    "X_test_seq = tokenizer.texts_to_sequences(X_test)\n",
    "\n",
    "# Pad sequences to ensure uniform length\n",
    "X_train_pad = pad_sequences(X_train_seq, maxlen=MAX_LEN, padding='post', truncating='post')\n",
    "X_test_pad = pad_sequences(X_test_seq, maxlen=MAX_LEN, padding='post', truncating='post')\n",
    "\n",
    "print(f\"处理后训练数据维度: {X_train_pad.shape}\")\n",
    "print(f\"处理后测试数据维度: {X_test_pad.shape}\")\n",
    "print(\"文本预处理完成。\")"
   ]
  },
  {
   "cell_type": "code",
   "execution_count": 7,
   "id": "f0365fb5",
   "metadata": {},
   "outputs": [
    {
     "name": "stdout",
     "output_type": "stream",
     "text": [
      "\n",
      "构建 BiLSTM 模型...\n"
     ]
    },
    {
     "name": "stderr",
     "output_type": "stream",
     "text": [
      "c:\\Users\\wjw20\\miniconda3\\envs\\IS6941\\Lib\\site-packages\\keras\\src\\layers\\core\\embedding.py:90: UserWarning: Argument `input_length` is deprecated. Just remove it.\n",
      "  warnings.warn(\n"
     ]
    }
   ],
   "source": [
    "# --- 5. Build BiLSTM Model ---\n",
    "print(\"\\n构建 BiLSTM 模型...\")\n",
    "model = Sequential([\n",
    "    # 1. Embedding Layer\n",
    "    Embedding(input_dim=vocab_size, # Use actual vocab size\n",
    "              output_dim=EMBEDDING_DIM,\n",
    "              input_length=MAX_LEN),\n",
    "    # Optional: Dropout after embedding helps prevent overfitting\n",
    "    SpatialDropout1D(0.2),\n",
    "\n",
    "    # 2. Bidirectional LSTM Layer\n",
    "    Bidirectional(LSTM(units=LSTM_UNITS, dropout=0.2, recurrent_dropout=0.2)),\n",
    "    # Note: recurrent_dropout can sometimes slow down training on GPU.\n",
    "    # Consider removing it if training is too slow.\n",
    "\n",
    "    # Optional: Dropout before the final layer\n",
    "    Dropout(DROPOUT_RATE),\n",
    "\n",
    "    # 3. Output Layer\n",
    "    # Binary classification: 1 unit with sigmoid activation\n",
    "    Dense(units=1, activation='sigmoid')\n",
    "])"
   ]
  },
  {
   "cell_type": "code",
   "execution_count": 8,
   "id": "6aa73f8a",
   "metadata": {},
   "outputs": [
    {
     "name": "stdout",
     "output_type": "stream",
     "text": [
      "编译模型...\n"
     ]
    },
    {
     "data": {
      "text/html": [
       "<pre style=\"white-space:pre;overflow-x:auto;line-height:normal;font-family:Menlo,'DejaVu Sans Mono',consolas,'Courier New',monospace\"><span style=\"font-weight: bold\">Model: \"sequential\"</span>\n",
       "</pre>\n"
      ],
      "text/plain": [
       "\u001b[1mModel: \"sequential\"\u001b[0m\n"
      ]
     },
     "metadata": {},
     "output_type": "display_data"
    },
    {
     "data": {
      "text/html": [
       "<pre style=\"white-space:pre;overflow-x:auto;line-height:normal;font-family:Menlo,'DejaVu Sans Mono',consolas,'Courier New',monospace\">┏━━━━━━━━━━━━━━━━━━━━━━━━━━━━━━━━━┳━━━━━━━━━━━━━━━━━━━━━━━━┳━━━━━━━━━━━━━━━┓\n",
       "┃<span style=\"font-weight: bold\"> Layer (type)                    </span>┃<span style=\"font-weight: bold\"> Output Shape           </span>┃<span style=\"font-weight: bold\">       Param # </span>┃\n",
       "┡━━━━━━━━━━━━━━━━━━━━━━━━━━━━━━━━━╇━━━━━━━━━━━━━━━━━━━━━━━━╇━━━━━━━━━━━━━━━┩\n",
       "│ embedding (<span style=\"color: #0087ff; text-decoration-color: #0087ff\">Embedding</span>)           │ ?                      │   <span style=\"color: #00af00; text-decoration-color: #00af00\">0</span> (unbuilt) │\n",
       "├─────────────────────────────────┼────────────────────────┼───────────────┤\n",
       "│ spatial_dropout1d               │ ?                      │             <span style=\"color: #00af00; text-decoration-color: #00af00\">0</span> │\n",
       "│ (<span style=\"color: #0087ff; text-decoration-color: #0087ff\">SpatialDropout1D</span>)              │                        │               │\n",
       "├─────────────────────────────────┼────────────────────────┼───────────────┤\n",
       "│ bidirectional (<span style=\"color: #0087ff; text-decoration-color: #0087ff\">Bidirectional</span>)   │ ?                      │   <span style=\"color: #00af00; text-decoration-color: #00af00\">0</span> (unbuilt) │\n",
       "├─────────────────────────────────┼────────────────────────┼───────────────┤\n",
       "│ dropout (<span style=\"color: #0087ff; text-decoration-color: #0087ff\">Dropout</span>)               │ ?                      │             <span style=\"color: #00af00; text-decoration-color: #00af00\">0</span> │\n",
       "├─────────────────────────────────┼────────────────────────┼───────────────┤\n",
       "│ dense (<span style=\"color: #0087ff; text-decoration-color: #0087ff\">Dense</span>)                   │ ?                      │   <span style=\"color: #00af00; text-decoration-color: #00af00\">0</span> (unbuilt) │\n",
       "└─────────────────────────────────┴────────────────────────┴───────────────┘\n",
       "</pre>\n"
      ],
      "text/plain": [
       "┏━━━━━━━━━━━━━━━━━━━━━━━━━━━━━━━━━┳━━━━━━━━━━━━━━━━━━━━━━━━┳━━━━━━━━━━━━━━━┓\n",
       "┃\u001b[1m \u001b[0m\u001b[1mLayer (type)                   \u001b[0m\u001b[1m \u001b[0m┃\u001b[1m \u001b[0m\u001b[1mOutput Shape          \u001b[0m\u001b[1m \u001b[0m┃\u001b[1m \u001b[0m\u001b[1m      Param #\u001b[0m\u001b[1m \u001b[0m┃\n",
       "┡━━━━━━━━━━━━━━━━━━━━━━━━━━━━━━━━━╇━━━━━━━━━━━━━━━━━━━━━━━━╇━━━━━━━━━━━━━━━┩\n",
       "│ embedding (\u001b[38;5;33mEmbedding\u001b[0m)           │ ?                      │   \u001b[38;5;34m0\u001b[0m (unbuilt) │\n",
       "├─────────────────────────────────┼────────────────────────┼───────────────┤\n",
       "│ spatial_dropout1d               │ ?                      │             \u001b[38;5;34m0\u001b[0m │\n",
       "│ (\u001b[38;5;33mSpatialDropout1D\u001b[0m)              │                        │               │\n",
       "├─────────────────────────────────┼────────────────────────┼───────────────┤\n",
       "│ bidirectional (\u001b[38;5;33mBidirectional\u001b[0m)   │ ?                      │   \u001b[38;5;34m0\u001b[0m (unbuilt) │\n",
       "├─────────────────────────────────┼────────────────────────┼───────────────┤\n",
       "│ dropout (\u001b[38;5;33mDropout\u001b[0m)               │ ?                      │             \u001b[38;5;34m0\u001b[0m │\n",
       "├─────────────────────────────────┼────────────────────────┼───────────────┤\n",
       "│ dense (\u001b[38;5;33mDense\u001b[0m)                   │ ?                      │   \u001b[38;5;34m0\u001b[0m (unbuilt) │\n",
       "└─────────────────────────────────┴────────────────────────┴───────────────┘\n"
      ]
     },
     "metadata": {},
     "output_type": "display_data"
    },
    {
     "data": {
      "text/html": [
       "<pre style=\"white-space:pre;overflow-x:auto;line-height:normal;font-family:Menlo,'DejaVu Sans Mono',consolas,'Courier New',monospace\"><span style=\"font-weight: bold\"> Total params: </span><span style=\"color: #00af00; text-decoration-color: #00af00\">0</span> (0.00 B)\n",
       "</pre>\n"
      ],
      "text/plain": [
       "\u001b[1m Total params: \u001b[0m\u001b[38;5;34m0\u001b[0m (0.00 B)\n"
      ]
     },
     "metadata": {},
     "output_type": "display_data"
    },
    {
     "data": {
      "text/html": [
       "<pre style=\"white-space:pre;overflow-x:auto;line-height:normal;font-family:Menlo,'DejaVu Sans Mono',consolas,'Courier New',monospace\"><span style=\"font-weight: bold\"> Trainable params: </span><span style=\"color: #00af00; text-decoration-color: #00af00\">0</span> (0.00 B)\n",
       "</pre>\n"
      ],
      "text/plain": [
       "\u001b[1m Trainable params: \u001b[0m\u001b[38;5;34m0\u001b[0m (0.00 B)\n"
      ]
     },
     "metadata": {},
     "output_type": "display_data"
    },
    {
     "data": {
      "text/html": [
       "<pre style=\"white-space:pre;overflow-x:auto;line-height:normal;font-family:Menlo,'DejaVu Sans Mono',consolas,'Courier New',monospace\"><span style=\"font-weight: bold\"> Non-trainable params: </span><span style=\"color: #00af00; text-decoration-color: #00af00\">0</span> (0.00 B)\n",
       "</pre>\n"
      ],
      "text/plain": [
       "\u001b[1m Non-trainable params: \u001b[0m\u001b[38;5;34m0\u001b[0m (0.00 B)\n"
      ]
     },
     "metadata": {},
     "output_type": "display_data"
    }
   ],
   "source": [
    "# --- 6. Compile Model ---\n",
    "print(\"编译模型...\")\n",
    "model.compile(\n",
    "    loss='binary_crossentropy', # Loss function for binary classification\n",
    "    optimizer='adam',           # Adam optimizer is generally a good default\n",
    "    metrics=['accuracy']        # Monitor accuracy during training\n",
    ")\n",
    "\n",
    "model.summary() # Print model architecture"
   ]
  },
  {
   "cell_type": "code",
   "execution_count": null,
   "id": "26f6a9c4",
   "metadata": {},
   "outputs": [
    {
     "name": "stdout",
     "output_type": "stream",
     "text": [
      "\n",
      "开始训练模型 (TensorFlow/Keras 会自动使用 GPU 如果可用)...\n",
      "Epoch 1/20\n",
      "\u001b[1m15/63\u001b[0m \u001b[32m━━━━\u001b[0m\u001b[37m━━━━━━━━━━━━━━━━\u001b[0m \u001b[1m24s\u001b[0m 503ms/step - accuracy: 0.6167 - loss: 0.6599"
     ]
    }
   ],
   "source": [
    "# --- 7. Train Model ---\n",
    "print(\"\\n开始训练模型 (TensorFlow/Keras 会自动使用 GPU 如果可用)...\")\n",
    "# Define callbacks (e.g., EarlyStopping)\n",
    "early_stopping = EarlyStopping(\n",
    "    monitor='val_loss', # Monitor loss on the validation set\n",
    "    patience=3,         # Stop after 3 epochs with no improvement\n",
    "    restore_best_weights=True # Restore model weights from the epoch with the best val_loss\n",
    ")\n",
    "\n",
    "start_time = time.time()\n",
    "history = model.fit(\n",
    "    X_train_pad, y_train,\n",
    "    epochs=EPOCHS,\n",
    "    batch_size=BATCH_SIZE,\n",
    "    validation_data=(X_test_pad, y_test), # Use test set for validation during training\n",
    "    callbacks=[early_stopping],\n",
    "    verbose=1 # Show progress bar per epoch\n",
    ")\n",
    "end_time = time.time()\n",
    "print(f\"模型训练完成，耗时: {end_time - start_time:.2f} 秒\")"
   ]
  },
  {
   "cell_type": "code",
   "execution_count": null,
   "id": "9831dbe9",
   "metadata": {},
   "outputs": [
    {
     "name": "stdout",
     "output_type": "stream",
     "text": [
      "\n",
      "在测试集上评估模型...\n",
      "测试集损失 (Loss): 0.4256\n",
      "测试集准确率 (Accuracy): 0.8003\n"
     ]
    }
   ],
   "source": [
    "# --- 8. Evaluate Model ---\n",
    "print(\"\\n在测试集上评估模型...\")\n",
    "loss, accuracy = model.evaluate(X_test_pad, y_test, verbose=0)\n",
    "print(f\"测试集损失 (Loss): {loss:.4f}\")\n",
    "print(f\"测试集准确率 (Accuracy): {accuracy:.4f}\")"
   ]
  },
  {
   "cell_type": "code",
   "execution_count": null,
   "id": "efd8c4f4",
   "metadata": {},
   "outputs": [
    {
     "name": "stdout",
     "output_type": "stream",
     "text": [
      "\n",
      "生成预测和评估报告...\n",
      "\u001b[1m250/250\u001b[0m \u001b[32m━━━━━━━━━━━━━━━━━━━━\u001b[0m\u001b[37m\u001b[0m \u001b[1m8s\u001b[0m 33ms/step\n",
      "Classification Report:\n",
      "              precision    recall  f1-score   support\n",
      "\n",
      "           0       0.71      0.70      0.71      2726\n",
      "           1       0.85      0.85      0.85      5271\n",
      "\n",
      "    accuracy                           0.80      7997\n",
      "   macro avg       0.78      0.78      0.78      7997\n",
      "weighted avg       0.80      0.80      0.80      7997\n",
      "\n",
      "\n",
      "Confusion Matrix:\n",
      "[[1916  810]\n",
      " [ 787 4484]]\n"
     ]
    },
    {
     "data": {
      "image/png": "[encoded data removed]",
      "text/plain": [
       "<Figure size 800x600 with 2 Axes>"
      ]
     },
     "metadata": {},
     "output_type": "display_data"
    }
   ],
   "source": [
    "# --- 9. Make Predictions & Generate Reports ---\n",
    "print(\"\\n生成预测和评估报告...\")\n",
    "# Predict probabilities\n",
    "y_pred_prob = model.predict(X_test_pad)\n",
    "# Convert probabilities to class labels (0 or 1)\n",
    "y_pred = (y_pred_prob > 0.5).astype(int).flatten() # Flatten needed as output might be (n_samples, 1)\n",
    "\n",
    "# Classification Report\n",
    "print(\"Classification Report:\")\n",
    "try:\n",
    "    target_names = [str(c) for c in sorted(np.unique(y_test))] # Get unique class labels\n",
    "    print(classification_report(y_test, y_pred, target_names=target_names))\n",
    "except Exception as e:\n",
    "    print(f\"生成 classification report 时出错: {e}\")\n",
    "    print(\"Classification Report (无 target_names):\")\n",
    "    print(classification_report(y_test, y_pred))\n",
    "\n",
    "# Confusion Matrix\n",
    "print(\"\\nConfusion Matrix:\")\n",
    "cm = confusion_matrix(y_test, y_pred)\n",
    "print(cm)\n",
    "\n",
    "# Visualize Confusion Matrix\n",
    "plt.figure(figsize=(8, 6))\n",
    "sns.heatmap(cm, annot=True, fmt='d', cmap='Blues', xticklabels=target_names, yticklabels=target_names)\n",
    "plt.xlabel('Predicted Label')\n",
    "plt.ylabel('True Label')\n",
    "plt.title('BiLSTM Confusion Matrix')\n",
    "plt.show()"
   ]
  },
  {
   "cell_type": "code",
   "execution_count": null,
   "id": "5914ce6e",
   "metadata": {},
   "outputs": [
    {
     "name": "stdout",
     "output_type": "stream",
     "text": [
      "\n",
      "绘制训练历史...\n"
     ]
    },
    {
     "data": {
      "image/png": "[encoded data removed]",
      "text/plain": [
       "<Figure size 1200x400 with 2 Axes>"
      ]
     },
     "metadata": {},
     "output_type": "display_data"
    },
    {
     "name": "stdout",
     "output_type": "stream",
     "text": [
      "\n",
      "脚本执行完毕。\n"
     ]
    }
   ],
   "source": [
    "# --- Optional: Plot Training History ---\n",
    "def plot_history(history):\n",
    "    plt.figure(figsize=(12, 4))\n",
    "\n",
    "    # Plot training & validation accuracy values\n",
    "    plt.subplot(1, 2, 1)\n",
    "    plt.plot(history.history['accuracy'])\n",
    "    plt.plot(history.history['val_accuracy'])\n",
    "    plt.title('Model accuracy')\n",
    "    plt.ylabel('Accuracy')\n",
    "    plt.xlabel('Epoch')\n",
    "    plt.legend(['Train', 'Validation'], loc='upper left')\n",
    "\n",
    "    # Plot training & validation loss values\n",
    "    plt.subplot(1, 2, 2)\n",
    "    plt.plot(history.history['loss'])\n",
    "    plt.plot(history.history['val_loss'])\n",
    "    plt.title('Model loss')\n",
    "    plt.ylabel('Loss')\n",
    "    plt.xlabel('Epoch')\n",
    "    plt.legend(['Train', 'Validation'], loc='upper left')\n",
    "\n",
    "    plt.tight_layout()\n",
    "    plt.show()\n",
    "\n",
    "print(\"\\n绘制训练历史...\")\n",
    "plot_history(history)\n",
    "\n",
    "print(\"\\n脚本执行完毕。\")"
   ]
  }
 ],
 "metadata": {
  "kernelspec": {
   "display_name": "IS6941",
   "language": "python",
   "name": "python3"
  },
  "language_info": {
   "codemirror_mode": {
    "name": "ipython",
    "version": 3
   },
   "file_extension": ".py",
   "mimetype": "text/x-python",
   "name": "python",
   "nbconvert_exporter": "python",
   "pygments_lexer": "ipython3",
   "version": "3.11.11"
  }
 },
 "nbformat": 4,
 "nbformat_minor": 5
}
