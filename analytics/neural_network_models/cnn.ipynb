{
 "cells": [
  {
   "cell_type": "code",
   "execution_count": 115,
   "id": "84232e3a",
   "metadata": {},
   "outputs": [],
   "source": [
    "import pandas as pd\n",
    "import numpy as np\n",
    "import matplotlib.pyplot as plt\n",
    "import seaborn as sns\n",
    "import time\n",
    "import re # For basic text cleaning\n",
    "from sklearn.model_selection import train_test_split\n",
    "from sklearn.metrics import classification_report, confusion_matrix\n",
    "from sklearn.utils import class_weight # To handle class imbalance\n",
    "# Import TensorFlow and Keras components\n",
    "import tensorflow as tf\n",
    "from tensorflow import keras\n",
    "from tensorflow.keras.preprocessing.text import Tokenizer\n",
    "from tensorflow.keras.preprocessing.sequence import pad_sequences\n",
    "from tensorflow.keras.models import Sequential\n",
    "from tensorflow.keras.layers import Embedding, Conv1D, GlobalMaxPooling1D, Dense, Dropout\n",
    "from tensorflow.keras.callbacks import EarlyStopping"
   ]
  },
  {
   "cell_type": "code",
   "execution_count": 116,
   "id": "a5a3413f",
   "metadata": {},
   "outputs": [
    {
     "name": "stdout",
     "output_type": "stream",
     "text": [
      "--- GPU Check ---\n",
      "TensorFlow Version: 2.19.0\n",
      "Num GPUs Available:  0\n",
      "!!! TensorFlow did not find any GPU devices. Running on CPU. !!!\n",
      "Built with CUDA: False\n",
      "--- End GPU Check ---\n"
     ]
    }
   ],
   "source": [
    "# --- GPU Check (Optional but recommended) ---\n",
    "print(\"--- GPU Check ---\")\n",
    "print(\"TensorFlow Version:\", tf.__version__)\n",
    "gpu_devices = tf.config.list_physical_devices('GPU')\n",
    "print(\"Num GPUs Available: \", len(gpu_devices))\n",
    "if gpu_devices:\n",
    "    print(\"GPU Devices Found:\", gpu_devices)\n",
    "    try:\n",
    "        details = tf.config.experimental.get_device_details(gpu_devices[0])\n",
    "        print(\"GPU Details:\", details)\n",
    "    except:\n",
    "        print(\"Could not get GPU details.\")\n",
    "    print(\"Built with CUDA:\", tf.test.is_built_with_cuda())\n",
    "else:\n",
    "    print(\"!!! TensorFlow did not find any GPU devices. Running on CPU. !!!\")\n",
    "    print(\"Built with CUDA:\", tf.test.is_built_with_cuda()) # Still useful info\n",
    "print(\"--- End GPU Check ---\")"
   ]
  },
  {
   "cell_type": "code",
   "execution_count": 117,
   "id": "a3087be1",
   "metadata": {},
   "outputs": [],
   "source": [
    "# --- Configuration ---\n",
    "file_path = r'D:\\GitHubRepos\\is6941-ml-social-media\\taptap\\data\\integrated\\cleaned_taptap_reviews.csv'\n",
    "text_column = 'review_content' # Column with text reviews\n",
    "target_column = 'sentiment'    # Column with sentiment labels\n",
    "test_size = 0.2\n",
    "random_state = 42\n",
    "\n",
    "# --- 1D-CNN Model Hyperparameters ---\n",
    "VOCAB_SIZE = 20000   # Max number of words to keep\n",
    "MAX_LEN = 200        # Max length of sequences\n",
    "EMBEDDING_DIM = 32  # Dimension of word embeddings\n",
    "FILTERS = 16         # Number of filters in the Conv1D layer\n",
    "KERNEL_SIZE = 3      # Width of the convolution kernel (like n-gram size)\n",
    "HIDDEN_DIM = 32      # Dimension of the hidden dense layer\n",
    "DROPOUT_RATE = 0.8   # Dropout rate\n",
    "EPOCHS = 20          # Max number of training epochs (EarlyStopping will likely stop sooner)\n",
    "BATCH_SIZE = 512     # Batch size for training"
   ]
  },
  {
   "cell_type": "code",
   "execution_count": 118,
   "id": "2e2a3664",
   "metadata": {},
   "outputs": [
    {
     "name": "stdout",
     "output_type": "stream",
     "text": [
      "\n",
      "开始加载数据: D:\\GitHubRepos\\is6941-ml-social-media\\taptap\\data\\integrated\\cleaned_taptap_reviews.csv\n",
      "数据加载成功，总行数: 39985\n",
      "\n",
      "处理必要列的缺失值后，剩余行数: 39985\n",
      "\n",
      "数据信息 (选择的列):\n",
      "<class 'pandas.core.frame.DataFrame'>\n",
      "RangeIndex: 39985 entries, 0 to 39984\n",
      "Data columns (total 2 columns):\n",
      " #   Column          Non-Null Count  Dtype \n",
      "---  ------          --------------  ----- \n",
      " 0   review_content  39985 non-null  object\n",
      " 1   sentiment       39985 non-null  int32 \n",
      "dtypes: int32(1), object(1)\n",
      "memory usage: 468.7+ KB\n",
      "\n",
      "目标变量 'sentiment' 分布:\n",
      "sentiment\n",
      "1    0.659072\n",
      "0    0.340928\n",
      "Name: proportion, dtype: float64\n"
     ]
    }
   ],
   "source": [
    "# --- 1. Load Data ---\n",
    "print(f\"\\n开始加载数据: {file_path}\")\n",
    "try:\n",
    "    df = pd.read_csv(file_path)\n",
    "    print(f\"数据加载成功，总行数: {len(df)}\")\n",
    "    # Select only necessary columns\n",
    "    df = df[[text_column, target_column]].copy()\n",
    "\n",
    "    # Basic Missing Value Handling\n",
    "    df[text_column] = df[text_column].fillna('') # Fill missing reviews\n",
    "    df.dropna(subset=[target_column], inplace=True) # Drop rows where target is missing\n",
    "    print(f\"\\n处理必要列的缺失值后，剩余行数: {len(df)}\")\n",
    "\n",
    "    # Ensure target column is integer type\n",
    "    df[target_column] = df[target_column].astype(int)\n",
    "\n",
    "    print(\"\\n数据信息 (选择的列):\")\n",
    "    df.info()\n",
    "    print(f\"\\n目标变量 '{target_column}' 分布:\")\n",
    "    print(df[target_column].value_counts(normalize=True))\n",
    "\n",
    "except FileNotFoundError:\n",
    "    print(f\"错误: 文件未找到 {file_path}\")\n",
    "    exit()\n",
    "except Exception as e:\n",
    "    print(f\"加载或初步处理数据时发生错误: {e}\")\n",
    "    exit()"
   ]
  },
  {
   "cell_type": "code",
   "execution_count": 119,
   "id": "c3a172e3",
   "metadata": {},
   "outputs": [],
   "source": [
    "# --- 2. Prepare Features and Target ---\n",
    "X = df[text_column].values\n",
    "y = df[target_column].values"
   ]
  },
  {
   "cell_type": "code",
   "execution_count": 120,
   "id": "02a66960",
   "metadata": {},
   "outputs": [
    {
     "name": "stdout",
     "output_type": "stream",
     "text": [
      "\n",
      "划分数据集，测试集比例: 0.2\n",
      "训练集大小: 31988, 测试集大小: 7997\n"
     ]
    }
   ],
   "source": [
    "# --- 3. Split Data ---\n",
    "print(f\"\\n划分数据集，测试集比例: {test_size}\")\n",
    "X_train, X_test, y_train, y_test = train_test_split(\n",
    "    X, y,\n",
    "    test_size=test_size,\n",
    "    random_state=random_state,\n",
    "    stratify=y # Important for imbalanced datasets\n",
    ")\n",
    "print(f\"训练集大小: {X_train.shape[0]}, 测试集大小: {X_test.shape[0]}\")"
   ]
  },
  {
   "cell_type": "code",
   "execution_count": 121,
   "id": "fba14d67",
   "metadata": {},
   "outputs": [
    {
     "name": "stdout",
     "output_type": "stream",
     "text": [
      "\n",
      "开始文本预处理 (Tokenization 和 Padding)...\n",
      "词汇表大小 (实际): 61764\n",
      "处理后训练数据维度: (31988, 200)\n",
      "处理后测试数据维度: (7997, 200)\n",
      "文本预处理完成。\n"
     ]
    }
   ],
   "source": [
    "# --- 4. Text Preprocessing (Tokenization & Padding) ---\n",
    "print(\"\\n开始文本预处理 (Tokenization 和 Padding)...\")\n",
    "tokenizer = Tokenizer(num_words=VOCAB_SIZE, oov_token=\"<OOV>\")\n",
    "tokenizer.fit_on_texts(X_train)\n",
    "word_index = tokenizer.word_index\n",
    "vocab_size = len(word_index) + 1 # Actual vocab size including padding\n",
    "print(f\"词汇表大小 (实际): {vocab_size}\")\n",
    "\n",
    "X_train_seq = tokenizer.texts_to_sequences(X_train)\n",
    "X_test_seq = tokenizer.texts_to_sequences(X_test)\n",
    "\n",
    "X_train_pad = pad_sequences(X_train_seq, maxlen=MAX_LEN, padding='post', truncating='post')\n",
    "X_test_pad = pad_sequences(X_test_seq, maxlen=MAX_LEN, padding='post', truncating='post')\n",
    "\n",
    "print(f\"处理后训练数据维度: {X_train_pad.shape}\")\n",
    "print(f\"处理后测试数据维度: {X_test_pad.shape}\")\n",
    "print(\"文本预处理完成。\")"
   ]
  },
  {
   "cell_type": "code",
   "execution_count": 122,
   "id": "02d317c5",
   "metadata": {},
   "outputs": [
    {
     "name": "stdout",
     "output_type": "stream",
     "text": [
      "\n",
      "计算类别权重以处理不平衡...\n",
      "计算得到的类别权重: {0: 1.4665321841188337, 1: 0.7586566739398539}\n"
     ]
    }
   ],
   "source": [
    "# --- 5. Calculate Class Weights for Imbalance ---\n",
    "print(\"\\n计算类别权重以处理不平衡...\")\n",
    "class_weights = class_weight.compute_class_weight(\n",
    "    'balanced',\n",
    "    classes=np.unique(y_train),\n",
    "    y=y_train\n",
    ")\n",
    "class_weight_dict = dict(enumerate(class_weights))\n",
    "print(f\"计算得到的类别权重: {class_weight_dict}\") # Expect higher weight for class 0"
   ]
  },
  {
   "cell_type": "code",
   "execution_count": 123,
   "id": "a7d5d808",
   "metadata": {},
   "outputs": [
    {
     "name": "stdout",
     "output_type": "stream",
     "text": [
      "\n",
      "构建 1D-CNN 模型...\n"
     ]
    },
    {
     "name": "stderr",
     "output_type": "stream",
     "text": [
      "c:\\Users\\wjw20\\miniconda3\\envs\\IS6941\\Lib\\site-packages\\keras\\src\\layers\\core\\embedding.py:90: UserWarning: Argument `input_length` is deprecated. Just remove it.\n",
      "  warnings.warn(\n"
     ]
    }
   ],
   "source": [
    "# --- 6. Build 1D-CNN Model ---\n",
    "print(\"\\n构建 1D-CNN 模型...\")\n",
    "model = Sequential([\n",
    "    # 1. Embedding Layer\n",
    "    Embedding(input_dim=vocab_size,\n",
    "              output_dim=EMBEDDING_DIM,\n",
    "              input_length=MAX_LEN),\n",
    "    # Optional: Dropout after embedding\n",
    "    Dropout(0.2),\n",
    "\n",
    "    # 2. Convolutional Layer\n",
    "    Conv1D(filters=FILTERS,\n",
    "           kernel_size=KERNEL_SIZE,\n",
    "           activation='relu'), # ReLU activation is common\n",
    "\n",
    "    # 3. Pooling Layer - Global Max Pooling is often effective for text\n",
    "    GlobalMaxPooling1D(),\n",
    "\n",
    "    # 4. Hidden Dense Layer\n",
    "    Dense(units=HIDDEN_DIM, activation='relu'),\n",
    "    Dropout(DROPOUT_RATE), # Dropout for regularization\n",
    "\n",
    "    # 5. Output Layer\n",
    "    Dense(units=1, activation='sigmoid') # Binary classification\n",
    "])"
   ]
  },
  {
   "cell_type": "code",
   "execution_count": 124,
   "id": "e62af26f",
   "metadata": {},
   "outputs": [
    {
     "name": "stdout",
     "output_type": "stream",
     "text": [
      "编译模型...\n"
     ]
    },
    {
     "data": {
      "text/html": [
       "<pre style=\"white-space:pre;overflow-x:auto;line-height:normal;font-family:Menlo,'DejaVu Sans Mono',consolas,'Courier New',monospace\"><span style=\"font-weight: bold\">Model: \"sequential_8\"</span>\n",
       "</pre>\n"
      ],
      "text/plain": [
       "\u001b[1mModel: \"sequential_8\"\u001b[0m\n"
      ]
     },
     "metadata": {},
     "output_type": "display_data"
    },
    {
     "data": {
      "text/html": [
       "<pre style=\"white-space:pre;overflow-x:auto;line-height:normal;font-family:Menlo,'DejaVu Sans Mono',consolas,'Courier New',monospace\">┏━━━━━━━━━━━━━━━━━━━━━━━━━━━━━━━━━┳━━━━━━━━━━━━━━━━━━━━━━━━┳━━━━━━━━━━━━━━━┓\n",
       "┃<span style=\"font-weight: bold\"> Layer (type)                    </span>┃<span style=\"font-weight: bold\"> Output Shape           </span>┃<span style=\"font-weight: bold\">       Param # </span>┃\n",
       "┡━━━━━━━━━━━━━━━━━━━━━━━━━━━━━━━━━╇━━━━━━━━━━━━━━━━━━━━━━━━╇━━━━━━━━━━━━━━━┩\n",
       "│ embedding_8 (<span style=\"color: #0087ff; text-decoration-color: #0087ff\">Embedding</span>)         │ ?                      │   <span style=\"color: #00af00; text-decoration-color: #00af00\">0</span> (unbuilt) │\n",
       "├─────────────────────────────────┼────────────────────────┼───────────────┤\n",
       "│ dropout_16 (<span style=\"color: #0087ff; text-decoration-color: #0087ff\">Dropout</span>)            │ ?                      │             <span style=\"color: #00af00; text-decoration-color: #00af00\">0</span> │\n",
       "├─────────────────────────────────┼────────────────────────┼───────────────┤\n",
       "│ conv1d_8 (<span style=\"color: #0087ff; text-decoration-color: #0087ff\">Conv1D</span>)               │ ?                      │   <span style=\"color: #00af00; text-decoration-color: #00af00\">0</span> (unbuilt) │\n",
       "├─────────────────────────────────┼────────────────────────┼───────────────┤\n",
       "│ global_max_pooling1d_8          │ ?                      │             <span style=\"color: #00af00; text-decoration-color: #00af00\">0</span> │\n",
       "│ (<span style=\"color: #0087ff; text-decoration-color: #0087ff\">GlobalMaxPooling1D</span>)            │                        │               │\n",
       "├─────────────────────────────────┼────────────────────────┼───────────────┤\n",
       "│ dense_16 (<span style=\"color: #0087ff; text-decoration-color: #0087ff\">Dense</span>)                │ ?                      │   <span style=\"color: #00af00; text-decoration-color: #00af00\">0</span> (unbuilt) │\n",
       "├─────────────────────────────────┼────────────────────────┼───────────────┤\n",
       "│ dropout_17 (<span style=\"color: #0087ff; text-decoration-color: #0087ff\">Dropout</span>)            │ ?                      │             <span style=\"color: #00af00; text-decoration-color: #00af00\">0</span> │\n",
       "├─────────────────────────────────┼────────────────────────┼───────────────┤\n",
       "│ dense_17 (<span style=\"color: #0087ff; text-decoration-color: #0087ff\">Dense</span>)                │ ?                      │   <span style=\"color: #00af00; text-decoration-color: #00af00\">0</span> (unbuilt) │\n",
       "└─────────────────────────────────┴────────────────────────┴───────────────┘\n",
       "</pre>\n"
      ],
      "text/plain": [
       "┏━━━━━━━━━━━━━━━━━━━━━━━━━━━━━━━━━┳━━━━━━━━━━━━━━━━━━━━━━━━┳━━━━━━━━━━━━━━━┓\n",
       "┃\u001b[1m \u001b[0m\u001b[1mLayer (type)                   \u001b[0m\u001b[1m \u001b[0m┃\u001b[1m \u001b[0m\u001b[1mOutput Shape          \u001b[0m\u001b[1m \u001b[0m┃\u001b[1m \u001b[0m\u001b[1m      Param #\u001b[0m\u001b[1m \u001b[0m┃\n",
       "┡━━━━━━━━━━━━━━━━━━━━━━━━━━━━━━━━━╇━━━━━━━━━━━━━━━━━━━━━━━━╇━━━━━━━━━━━━━━━┩\n",
       "│ embedding_8 (\u001b[38;5;33mEmbedding\u001b[0m)         │ ?                      │   \u001b[38;5;34m0\u001b[0m (unbuilt) │\n",
       "├─────────────────────────────────┼────────────────────────┼───────────────┤\n",
       "│ dropout_16 (\u001b[38;5;33mDropout\u001b[0m)            │ ?                      │             \u001b[38;5;34m0\u001b[0m │\n",
       "├─────────────────────────────────┼────────────────────────┼───────────────┤\n",
       "│ conv1d_8 (\u001b[38;5;33mConv1D\u001b[0m)               │ ?                      │   \u001b[38;5;34m0\u001b[0m (unbuilt) │\n",
       "├─────────────────────────────────┼────────────────────────┼───────────────┤\n",
       "│ global_max_pooling1d_8          │ ?                      │             \u001b[38;5;34m0\u001b[0m │\n",
       "│ (\u001b[38;5;33mGlobalMaxPooling1D\u001b[0m)            │                        │               │\n",
       "├─────────────────────────────────┼────────────────────────┼───────────────┤\n",
       "│ dense_16 (\u001b[38;5;33mDense\u001b[0m)                │ ?                      │   \u001b[38;5;34m0\u001b[0m (unbuilt) │\n",
       "├─────────────────────────────────┼────────────────────────┼───────────────┤\n",
       "│ dropout_17 (\u001b[38;5;33mDropout\u001b[0m)            │ ?                      │             \u001b[38;5;34m0\u001b[0m │\n",
       "├─────────────────────────────────┼────────────────────────┼───────────────┤\n",
       "│ dense_17 (\u001b[38;5;33mDense\u001b[0m)                │ ?                      │   \u001b[38;5;34m0\u001b[0m (unbuilt) │\n",
       "└─────────────────────────────────┴────────────────────────┴───────────────┘\n"
      ]
     },
     "metadata": {},
     "output_type": "display_data"
    },
    {
     "data": {
      "text/html": [
       "<pre style=\"white-space:pre;overflow-x:auto;line-height:normal;font-family:Menlo,'DejaVu Sans Mono',consolas,'Courier New',monospace\"><span style=\"font-weight: bold\"> Total params: </span><span style=\"color: #00af00; text-decoration-color: #00af00\">0</span> (0.00 B)\n",
       "</pre>\n"
      ],
      "text/plain": [
       "\u001b[1m Total params: \u001b[0m\u001b[38;5;34m0\u001b[0m (0.00 B)\n"
      ]
     },
     "metadata": {},
     "output_type": "display_data"
    },
    {
     "data": {
      "text/html": [
       "<pre style=\"white-space:pre;overflow-x:auto;line-height:normal;font-family:Menlo,'DejaVu Sans Mono',consolas,'Courier New',monospace\"><span style=\"font-weight: bold\"> Trainable params: </span><span style=\"color: #00af00; text-decoration-color: #00af00\">0</span> (0.00 B)\n",
       "</pre>\n"
      ],
      "text/plain": [
       "\u001b[1m Trainable params: \u001b[0m\u001b[38;5;34m0\u001b[0m (0.00 B)\n"
      ]
     },
     "metadata": {},
     "output_type": "display_data"
    },
    {
     "data": {
      "text/html": [
       "<pre style=\"white-space:pre;overflow-x:auto;line-height:normal;font-family:Menlo,'DejaVu Sans Mono',consolas,'Courier New',monospace\"><span style=\"font-weight: bold\"> Non-trainable params: </span><span style=\"color: #00af00; text-decoration-color: #00af00\">0</span> (0.00 B)\n",
       "</pre>\n"
      ],
      "text/plain": [
       "\u001b[1m Non-trainable params: \u001b[0m\u001b[38;5;34m0\u001b[0m (0.00 B)\n"
      ]
     },
     "metadata": {},
     "output_type": "display_data"
    }
   ],
   "source": [
    "# --- 7. Compile Model ---\n",
    "print(\"编译模型...\")\n",
    "model.compile(\n",
    "    loss='binary_crossentropy',\n",
    "    optimizer='adam',\n",
    "    metrics=['accuracy']\n",
    ")\n",
    "model.summary()"
   ]
  },
  {
   "cell_type": "code",
   "execution_count": 125,
   "id": "8af6e525",
   "metadata": {},
   "outputs": [
    {
     "name": "stdout",
     "output_type": "stream",
     "text": [
      "\n",
      "开始训练模型 (使用类别权重)...\n",
      "Epoch 1/20\n",
      "\u001b[1m63/63\u001b[0m \u001b[32m━━━━━━━━━━━━━━━━━━━━\u001b[0m\u001b[37m\u001b[0m \u001b[1m2s\u001b[0m 13ms/step - accuracy: 0.5248 - loss: 0.6926 - val_accuracy: 0.6990 - val_loss: 0.6695\n",
      "Epoch 2/20\n",
      "\u001b[1m63/63\u001b[0m \u001b[32m━━━━━━━━━━━━━━━━━━━━\u001b[0m\u001b[37m\u001b[0m \u001b[1m1s\u001b[0m 11ms/step - accuracy: 0.6312 - loss: 0.6585 - val_accuracy: 0.7029 - val_loss: 0.5710\n",
      "Epoch 3/20\n",
      "\u001b[1m63/63\u001b[0m \u001b[32m━━━━━━━━━━━━━━━━━━━━\u001b[0m\u001b[37m\u001b[0m \u001b[1m1s\u001b[0m 11ms/step - accuracy: 0.7117 - loss: 0.5650 - val_accuracy: 0.7614 - val_loss: 0.4896\n",
      "Epoch 4/20\n",
      "\u001b[1m63/63\u001b[0m \u001b[32m━━━━━━━━━━━━━━━━━━━━\u001b[0m\u001b[37m\u001b[0m \u001b[1m1s\u001b[0m 10ms/step - accuracy: 0.7773 - loss: 0.4777 - val_accuracy: 0.7775 - val_loss: 0.4593\n",
      "Epoch 5/20\n",
      "\u001b[1m63/63\u001b[0m \u001b[32m━━━━━━━━━━━━━━━━━━━━\u001b[0m\u001b[37m\u001b[0m \u001b[1m1s\u001b[0m 11ms/step - accuracy: 0.8113 - loss: 0.4276 - val_accuracy: 0.7788 - val_loss: 0.4614\n",
      "Epoch 6/20\n",
      "\u001b[1m63/63\u001b[0m \u001b[32m━━━━━━━━━━━━━━━━━━━━\u001b[0m\u001b[37m\u001b[0m \u001b[1m1s\u001b[0m 11ms/step - accuracy: 0.8352 - loss: 0.3818 - val_accuracy: 0.7938 - val_loss: 0.4461\n",
      "Epoch 7/20\n",
      "\u001b[1m63/63\u001b[0m \u001b[32m━━━━━━━━━━━━━━━━━━━━\u001b[0m\u001b[37m\u001b[0m \u001b[1m1s\u001b[0m 10ms/step - accuracy: 0.8499 - loss: 0.3522 - val_accuracy: 0.7870 - val_loss: 0.4633\n",
      "Epoch 8/20\n",
      "\u001b[1m63/63\u001b[0m \u001b[32m━━━━━━━━━━━━━━━━━━━━\u001b[0m\u001b[37m\u001b[0m \u001b[1m1s\u001b[0m 10ms/step - accuracy: 0.8614 - loss: 0.3230 - val_accuracy: 0.7832 - val_loss: 0.4840\n",
      "Epoch 9/20\n",
      "\u001b[1m63/63\u001b[0m \u001b[32m━━━━━━━━━━━━━━━━━━━━\u001b[0m\u001b[37m\u001b[0m \u001b[1m1s\u001b[0m 11ms/step - accuracy: 0.8679 - loss: 0.3006 - val_accuracy: 0.7850 - val_loss: 0.5064\n",
      "模型训练完成，耗时: 7.14 秒\n"
     ]
    }
   ],
   "source": [
    "# --- 8. Train Model ---\n",
    "print(\"\\n开始训练模型 (使用类别权重)...\")\n",
    "early_stopping = EarlyStopping(\n",
    "    monitor='val_loss',\n",
    "    patience=3,\n",
    "    restore_best_weights=True\n",
    ")\n",
    "\n",
    "start_time = time.time()\n",
    "history = model.fit(\n",
    "    X_train_pad, y_train,\n",
    "    epochs=EPOCHS,\n",
    "    batch_size=BATCH_SIZE,\n",
    "    validation_data=(X_test_pad, y_test),\n",
    "    callbacks=[early_stopping],\n",
    "    class_weight=class_weight_dict, # Apply class weights here!\n",
    "    verbose=1\n",
    ")\n",
    "end_time = time.time()\n",
    "print(f\"模型训练完成，耗时: {end_time - start_time:.2f} 秒\")"
   ]
  },
  {
   "cell_type": "code",
   "execution_count": 126,
   "id": "0bcc52b1",
   "metadata": {},
   "outputs": [
    {
     "name": "stdout",
     "output_type": "stream",
     "text": [
      "\n",
      "在测试集上评估模型...\n",
      "测试集损失 (Loss): 0.4461\n",
      "测试集准确率 (Accuracy): 0.7938\n"
     ]
    }
   ],
   "source": [
    "# --- 9. Evaluate Model ---\n",
    "print(\"\\n在测试集上评估模型...\")\n",
    "loss, accuracy = model.evaluate(X_test_pad, y_test, verbose=0)\n",
    "print(f\"测试集损失 (Loss): {loss:.4f}\")\n",
    "print(f\"测试集准确率 (Accuracy): {accuracy:.4f}\")"
   ]
  },
  {
   "cell_type": "code",
   "execution_count": 127,
   "id": "000991bc",
   "metadata": {},
   "outputs": [
    {
     "name": "stdout",
     "output_type": "stream",
     "text": [
      "\n",
      "生成预测和评估报告...\n",
      "\u001b[1m250/250\u001b[0m \u001b[32m━━━━━━━━━━━━━━━━━━━━\u001b[0m\u001b[37m\u001b[0m \u001b[1m0s\u001b[0m 751us/step\n",
      "Classification Report:\n",
      "              precision    recall  f1-score   support\n",
      "\n",
      "           0       0.68      0.75      0.71      2726\n",
      "           1       0.86      0.82      0.84      5271\n",
      "\n",
      "    accuracy                           0.79      7997\n",
      "   macro avg       0.77      0.78      0.78      7997\n",
      "weighted avg       0.80      0.79      0.80      7997\n",
      "\n",
      "\n",
      "Confusion Matrix:\n",
      "[[2038  688]\n",
      " [ 961 4310]]\n"
     ]
    },
    {
     "data": {
      "image/png": "[encoded data removed]",
      "text/plain": [
       "<Figure size 800x600 with 2 Axes>"
      ]
     },
     "metadata": {},
     "output_type": "display_data"
    }
   ],
   "source": [
    "# --- 10. Make Predictions & Generate Reports ---\n",
    "print(\"\\n生成预测和评估报告...\")\n",
    "y_pred_prob = model.predict(X_test_pad)\n",
    "y_pred = (y_pred_prob > 0.5).astype(int).flatten()\n",
    "\n",
    "# Classification Report\n",
    "print(\"Classification Report:\")\n",
    "try:\n",
    "    target_names = [str(c) for c in sorted(np.unique(y_test))]\n",
    "    print(classification_report(y_test, y_pred, target_names=target_names))\n",
    "except Exception as e:\n",
    "    print(f\"生成 classification report 时出错: {e}\")\n",
    "    print(\"Classification Report (无 target_names):\")\n",
    "    print(classification_report(y_test, y_pred))\n",
    "\n",
    "# Confusion Matrix\n",
    "print(\"\\nConfusion Matrix:\")\n",
    "cm = confusion_matrix(y_test, y_pred)\n",
    "print(cm)\n",
    "\n",
    "# Visualize Confusion Matrix\n",
    "plt.figure(figsize=(8, 6))\n",
    "sns.heatmap(cm, annot=True, fmt='d', cmap='Blues', xticklabels=target_names, yticklabels=target_names)\n",
    "plt.xlabel('Predicted Label')\n",
    "plt.ylabel('True Label')\n",
    "plt.title('1D-CNN Confusion Matrix')\n",
    "plt.show()"
   ]
  },
  {
   "cell_type": "code",
   "execution_count": 128,
   "id": "f19c1e1d",
   "metadata": {},
   "outputs": [
    {
     "name": "stdout",
     "output_type": "stream",
     "text": [
      "\n",
      "绘制训练历史...\n"
     ]
    },
    {
     "data": {
      "image/png": "[encoded data removed]",
      "text/plain": [
       "<Figure size 1200x400 with 2 Axes>"
      ]
     },
     "metadata": {},
     "output_type": "display_data"
    },
    {
     "name": "stdout",
     "output_type": "stream",
     "text": [
      "\n",
      "脚本执行完毕。\n"
     ]
    }
   ],
   "source": [
    "# --- Optional: Plot Training History ---\n",
    "def plot_history(history):\n",
    "    plt.figure(figsize=(12, 4))\n",
    "    plt.subplot(1, 2, 1)\n",
    "    plt.plot(history.history['accuracy'], label='Train Acc')\n",
    "    plt.plot(history.history['val_accuracy'], label='Val Acc')\n",
    "    plt.title('Model Accuracy')\n",
    "    plt.ylabel('Accuracy')\n",
    "    plt.xlabel('Epoch')\n",
    "    plt.legend(loc='upper left')\n",
    "    plt.subplot(1, 2, 2)\n",
    "    plt.plot(history.history['loss'], label='Train Loss')\n",
    "    plt.plot(history.history['val_loss'], label='Val Loss')\n",
    "    plt.title('Model Loss')\n",
    "    plt.ylabel('Loss')\n",
    "    plt.xlabel('Epoch')\n",
    "    plt.legend(loc='upper left')\n",
    "    plt.tight_layout()\n",
    "    plt.show()\n",
    "\n",
    "print(\"\\n绘制训练历史...\")\n",
    "plot_history(history)\n",
    "\n",
    "print(\"\\n脚本执行完毕。\")"
   ]
  }
 ],
 "metadata": {
  "kernelspec": {
   "display_name": "IS6941",
   "language": "python",
   "name": "python3"
  },
  "language_info": {
   "codemirror_mode": {
    "name": "ipython",
    "version": 3
   },
   "file_extension": ".py",
   "mimetype": "text/x-python",
   "name": "python",
   "nbconvert_exporter": "python",
   "pygments_lexer": "ipython3",
   "version": "3.11.11"
  }
 },
 "nbformat": 4,
 "nbformat_minor": 5
}
