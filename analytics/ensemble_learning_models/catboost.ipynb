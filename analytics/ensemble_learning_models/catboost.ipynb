{
 "cells": [
  {
   "cell_type": "code",
   "execution_count": 9,
   "id": "8cb30382",
   "metadata": {},
   "outputs": [],
   "source": [
    "import pandas as pd\n",
    "import numpy as np\n",
    "from catboost import CatBoostClassifier\n",
    "from sklearn.model_selection import train_test_split\n",
    "from sklearn.metrics import classification_report, confusion_matrix\n",
    "import matplotlib.pyplot as plt\n",
    "import seaborn as sns\n",
    "import time # 用于计时"
   ]
  },
  {
   "cell_type": "code",
   "execution_count": 10,
   "id": "985acca5",
   "metadata": {},
   "outputs": [],
   "source": [
    "# --- 配置 ---\n",
    "file_path = r'D:\\GitHubRepos\\is6941-ml-social-media\\taptap\\data\\integrated\\cleaned_taptap_reviews.csv'\n",
    "# 选择用于训练的特征列\n",
    "# review_content 是文本特征\n",
    "# rating 和 game_name 是类别特征 (rating也可以视为数值，但作为类别通常效果不错)\n",
    "# likes 是数值特征\n",
    "feature_columns = ['review_content', 'likes', 'game_name']\n",
    "text_feature_columns = ['review_content']\n",
    "categorical_feature_columns = ['game_name']\n",
    "target_column = 'sentiment'\n",
    "test_size = 0.2 # 20% 的数据作为测试集\n",
    "random_state = 42 # 为了结果可复现"
   ]
  },
  {
   "cell_type": "code",
   "execution_count": 11,
   "id": "d579af3e",
   "metadata": {},
   "outputs": [
    {
     "name": "stdout",
     "output_type": "stream",
     "text": [
      "开始加载数据: D:\\GitHubRepos\\is6941-ml-social-media\\taptap\\data\\integrated\\cleaned_taptap_reviews.csv\n",
      "数据加载成功，总行数: 39985\n",
      "\n",
      "数据前5行:\n",
      "     user_id       username  rating              review_content  likes  \\\n",
      "0  696432312            。。。       5       体验 一下 剧情 不错 可能 会 有点 迷      0   \n",
      "1  679295528           云淡风轻       5                      剧情 很 好      0   \n",
      "2  700357357        qqqqq美女       5  刺激 感受 友情 亲情 自我 爱慕 传承 等待 纯真      1   \n",
      "3  402380140  User402380140       5         毋庸置疑 神作 第一次 回溯 时间 葵      2   \n",
      "4  434114561           不忆往事       5                  没有 说 剧情 神作      1   \n",
      "\n",
      "          publish_time       device_model         game_name  sentiment  \n",
      "0  2025-04-05 20:13:00        OPPO K7x中国版  7_years_from_now          1  \n",
      "1  2025-04-05 17:35:00   Honor Play 40 5G  7_years_from_now          1  \n",
      "2  2025-04-04 22:59:00        OPPO PGGM10  7_years_from_now          1  \n",
      "3  2025-04-03 09:48:00  Redmi Note 10 Pro  7_years_from_now          1  \n",
      "4  2025-04-03 01:08:00        Vivo V2148A  7_years_from_now          1  \n",
      "\n",
      "数据信息:\n",
      "<class 'pandas.core.frame.DataFrame'>\n",
      "RangeIndex: 39985 entries, 0 to 39984\n",
      "Data columns (total 9 columns):\n",
      " #   Column          Non-Null Count  Dtype \n",
      "---  ------          --------------  ----- \n",
      " 0   user_id         39985 non-null  int64 \n",
      " 1   username        39979 non-null  object\n",
      " 2   rating          39985 non-null  int64 \n",
      " 3   review_content  39954 non-null  object\n",
      " 4   likes           39985 non-null  int64 \n",
      " 5   publish_time    39985 non-null  object\n",
      " 6   device_model    39985 non-null  object\n",
      " 7   game_name       39985 non-null  object\n",
      " 8   sentiment       39985 non-null  int64 \n",
      "dtypes: int64(4), object(5)\n",
      "memory usage: 2.7+ MB\n",
      "\n",
      "目标变量 'sentiment' 分布:\n",
      "sentiment\n",
      "1    0.659072\n",
      "0    0.340928\n",
      "Name: proportion, dtype: float64\n",
      "\n",
      "处理缺失值后，剩余行数: 39985\n"
     ]
    }
   ],
   "source": [
    "# --- 1. 加载数据 ---\n",
    "print(f\"开始加载数据: {file_path}\")\n",
    "try:\n",
    "    df = pd.read_csv(file_path)\n",
    "    print(f\"数据加载成功，总行数: {len(df)}\")\n",
    "    # 查看数据基本信息和目标变量分布\n",
    "    print(\"\\n数据前5行:\")\n",
    "    print(df.head())\n",
    "    print(\"\\n数据信息:\")\n",
    "    df.info()\n",
    "    print(f\"\\n目标变量 '{target_column}' 分布:\")\n",
    "    print(df[target_column].value_counts(normalize=True))\n",
    "\n",
    "    # 简单处理缺失值 (例如，填充文本和类别特征，删除数值特征缺失行)\n",
    "    # 注意：CatBoost 内部可以处理缺失值，但显式处理有时更好控制\n",
    "    df['review_content'] = df['review_content'].fillna('') # 文本填充空字符串\n",
    "    df['game_name'] = df['game_name'].fillna('Unknown') # 类别填充特定值\n",
    "    df['rating'] = df['rating'].fillna(df['rating'].mode()[0]) # 类别用众数填充\n",
    "    df.dropna(subset=['likes', target_column], inplace=True) # 删除数值或目标列的缺失值行\n",
    "    print(f\"\\n处理缺失值后，剩余行数: {len(df)}\")\n",
    "\n",
    "    # 确保目标列是整数类型\n",
    "    df[target_column] = df[target_column].astype(int)\n",
    "\n",
    "except FileNotFoundError:\n",
    "    print(f\"错误: 文件未找到 {file_path}\")\n",
    "    exit()\n",
    "except Exception as e:\n",
    "    print(f\"加载或预处理数据时发生错误: {e}\")\n",
    "    exit()"
   ]
  },
  {
   "cell_type": "code",
   "execution_count": 12,
   "id": "8e800791",
   "metadata": {},
   "outputs": [
    {
     "name": "stdout",
     "output_type": "stream",
     "text": [
      "\n",
      "划分数据集，测试集比例: 0.2\n",
      "训练集大小: 31988, 测试集大小: 7997\n"
     ]
    }
   ],
   "source": [
    "# --- 2. 准备特征和目标变量 ---\n",
    "X = df[feature_columns]\n",
    "y = df[target_column]\n",
    "\n",
    "# --- 3. 划分训练集和测试集 ---\n",
    "print(f\"\\n划分数据集，测试集比例: {test_size}\")\n",
    "X_train, X_test, y_train, y_test = train_test_split(\n",
    "    X, y,\n",
    "    test_size=test_size,\n",
    "    random_state=random_state,\n",
    "    stratify=y # 保持训练集和测试集中类别比例一致\n",
    ")\n",
    "print(f\"训练集大小: {X_train.shape[0]}, 测试集大小: {X_test.shape[0]}\")"
   ]
  },
  {
   "cell_type": "code",
   "execution_count": 13,
   "id": "50ca33c8",
   "metadata": {},
   "outputs": [
    {
     "name": "stdout",
     "output_type": "stream",
     "text": [
      "\n",
      "初始化 CatBoostClassifier...\n",
      "检测到二分类任务，使用 'Logloss'\n"
     ]
    }
   ],
   "source": [
    "# --- 4. 初始化 CatBoost 分类器 ---\n",
    "print(\"\\n初始化 CatBoostClassifier...\")\n",
    "# 确定损失函数（根据目标变量的类别数量）\n",
    "num_classes = len(y.unique())\n",
    "if num_classes == 2:\n",
    "    loss_function = 'Logloss'\n",
    "    eval_metric = 'Accuracy' # 或者 'AUC', 'F1'\n",
    "    print(\"检测到二分类任务，使用 'Logloss'\")\n",
    "elif num_classes > 2:\n",
    "    loss_function = 'MultiClass'\n",
    "    eval_metric = 'Accuracy' # 或者 'TotalF1'\n",
    "    print(f\"检测到 {num_classes} 分类任务，使用 'MultiClass'\")\n",
    "else:\n",
    "    print(\"错误：目标变量类别数少于2，无法进行分类。\")\n",
    "    exit()\n",
    "\n",
    "model = CatBoostClassifier(\n",
    "    iterations=1000,          # 迭代次数（树的数量）\n",
    "    learning_rate=0.1,       # 学习率\n",
    "    depth=8,                 # 树的深度\n",
    "    loss_function=loss_function, # 损失函数\n",
    "    eval_metric=eval_metric,     # 评估指标\n",
    "    task_type=\"GPU\",         # 使用 GPU\n",
    "    devices='0',             # 指定 GPU 设备 ID (通常是 '0')\n",
    "    random_seed=random_state,  # 随机种子\n",
    "    verbose=10,             # 每 10 次迭代输出一次信息\n",
    "    early_stopping_rounds=50, # 如果验证集指标在 50 轮内没有提升，则停止训练\n",
    "    text_features=text_feature_columns,         # 指定文本特征列名\n",
    "    cat_features=categorical_feature_columns    # 指定类别特征列名\n",
    "    # CatBoost 会自动处理类别特征和文本特征，无需手动编码\n",
    ")"
   ]
  },
  {
   "cell_type": "code",
   "execution_count": 14,
   "id": "178a94da",
   "metadata": {},
   "outputs": [
    {
     "name": "stdout",
     "output_type": "stream",
     "text": [
      "\n",
      "开始训练模型...\n",
      "0:\tlearn: 0.8078654\ttest: 0.8075528\tbest: 0.8075528 (0)\ttotal: 134ms\tremaining: 2m 13s\n",
      "10:\tlearn: 0.8189321\ttest: 0.8089283\tbest: 0.8109291 (9)\ttotal: 9.43s\tremaining: 14m 7s\n",
      "20:\tlearn: 0.8325935\ttest: 0.8210579\tbest: 0.8210579 (20)\ttotal: 10.4s\tremaining: 8m 4s\n",
      "30:\tlearn: 0.8370639\ttest: 0.8244342\tbest: 0.8248093 (28)\ttotal: 11.3s\tremaining: 5m 52s\n",
      "40:\tlearn: 0.8401901\ttest: 0.8254345\tbest: 0.8261848 (35)\ttotal: 12.2s\tremaining: 4m 44s\n",
      "50:\tlearn: 0.8419095\ttest: 0.8273102\tbest: 0.8273102 (46)\ttotal: 13.4s\tremaining: 4m 8s\n",
      "60:\tlearn: 0.8432537\ttest: 0.8280605\tbest: 0.8285607 (59)\ttotal: 14.2s\tremaining: 3m 38s\n",
      "70:\tlearn: 0.8450982\ttest: 0.8284357\tbest: 0.8285607 (59)\ttotal: 15.1s\tremaining: 3m 17s\n",
      "80:\tlearn: 0.8466925\ttest: 0.8288108\tbest: 0.8293110 (77)\ttotal: 16s\tremaining: 3m 1s\n",
      "90:\tlearn: 0.8484744\ttest: 0.8299362\tbest: 0.8299362 (90)\ttotal: 16.9s\tremaining: 2m 48s\n",
      "100:\tlearn: 0.8492560\ttest: 0.8309366\tbest: 0.8309366 (100)\ttotal: 17.7s\tremaining: 2m 37s\n",
      "110:\tlearn: 0.8499125\ttest: 0.8308116\tbest: 0.8310616 (101)\ttotal: 18.6s\tremaining: 2m 28s\n",
      "120:\tlearn: 0.8513192\ttest: 0.8314368\tbest: 0.8314368 (120)\ttotal: 19.5s\tremaining: 2m 21s\n",
      "130:\tlearn: 0.8530074\ttest: 0.8315618\tbest: 0.8318119 (129)\ttotal: 20.4s\tremaining: 2m 15s\n",
      "140:\tlearn: 0.8545392\ttest: 0.8320620\tbest: 0.8320620 (138)\ttotal: 25.8s\tremaining: 2m 37s\n",
      "150:\tlearn: 0.8556021\ttest: 0.8326873\tbest: 0.8328123 (149)\ttotal: 37s\tremaining: 3m 27s\n",
      "160:\tlearn: 0.8561961\ttest: 0.8330624\tbest: 0.8330624 (160)\ttotal: 39s\tremaining: 3m 23s\n",
      "170:\tlearn: 0.8565712\ttest: 0.8326873\tbest: 0.8333125 (161)\ttotal: 40.3s\tremaining: 3m 15s\n",
      "180:\tlearn: 0.8582281\ttest: 0.8330624\tbest: 0.8333125 (161)\ttotal: 45s\tremaining: 3m 23s\n",
      "190:\tlearn: 0.8591347\ttest: 0.8336876\tbest: 0.8339377 (187)\ttotal: 1m 5s\tremaining: 4m 39s\n",
      "200:\tlearn: 0.8602288\ttest: 0.8336876\tbest: 0.8339377 (187)\ttotal: 1m 7s\tremaining: 4m 29s\n",
      "210:\tlearn: 0.8613230\ttest: 0.8326873\tbest: 0.8339377 (187)\ttotal: 1m 9s\tremaining: 4m 19s\n",
      "220:\tlearn: 0.8622296\ttest: 0.8334375\tbest: 0.8339377 (187)\ttotal: 1m 11s\tremaining: 4m 13s\n",
      "230:\tlearn: 0.8629486\ttest: 0.8335626\tbest: 0.8339377 (187)\ttotal: 1m 13s\tremaining: 4m 5s\n",
      "bestTest = 0.8339377266\n",
      "bestIteration = 187\n",
      "Shrink model to first 188 iterations.\n",
      "模型训练完成，耗时: 77.21 秒\n"
     ]
    }
   ],
   "source": [
    "# --- 5. 训练模型 ---\n",
    "print(\"\\n开始训练模型...\")\n",
    "start_time = time.time()\n",
    "model.fit(\n",
    "    X_train, y_train,\n",
    "    eval_set=(X_test, y_test), # 使用测试集进行早停和性能监控\n",
    "    # text_features 和 cat_features 在初始化时已指定\n",
    "    # plot=True # 如果你想在训练过程中看到图表（可能需要额外库或在Jupyter环境）\n",
    ")\n",
    "end_time = time.time()\n",
    "print(f\"模型训练完成，耗时: {end_time - start_time:.2f} 秒\")"
   ]
  },
  {
   "cell_type": "code",
   "execution_count": 15,
   "id": "535a7451",
   "metadata": {},
   "outputs": [
    {
     "name": "stdout",
     "output_type": "stream",
     "text": [
      "\n",
      "在测试集上进行预测...\n"
     ]
    }
   ],
   "source": [
    "# --- 6. 进行预测 ---\n",
    "print(\"\\n在测试集上进行预测...\")\n",
    "y_pred = model.predict(X_test)\n",
    "# CatBoost predict 默认返回概率最高的类别，如果是二分类且需要概率，用 predict_proba"
   ]
  },
  {
   "cell_type": "code",
   "execution_count": 16,
   "id": "5b5acbf1",
   "metadata": {},
   "outputs": [
    {
     "name": "stdout",
     "output_type": "stream",
     "text": [
      "\n",
      "模型评估:\n",
      "Classification Report:\n",
      "              precision    recall  f1-score   support\n",
      "\n",
      "           0       0.77      0.73      0.75      2726\n",
      "           1       0.87      0.89      0.88      5271\n",
      "\n",
      "    accuracy                           0.83      7997\n",
      "   macro avg       0.82      0.81      0.81      7997\n",
      "weighted avg       0.83      0.83      0.83      7997\n",
      "\n",
      "\n",
      "Confusion Matrix:\n",
      "[[2002  724]\n",
      " [ 604 4667]]\n"
     ]
    },
    {
     "data": {
      "image/png": "[encoded data removed]",
      "text/plain": [
       "<Figure size 800x600 with 2 Axes>"
      ]
     },
     "metadata": {},
     "output_type": "display_data"
    },
    {
     "name": "stdout",
     "output_type": "stream",
     "text": [
      "\n",
      "脚本执行完毕。\n"
     ]
    }
   ],
   "source": [
    "# --- 7. 评估模型 ---\n",
    "print(\"\\n模型评估:\")\n",
    "\n",
    "# Classification Report\n",
    "print(\"Classification Report:\")\n",
    "try:\n",
    "    # 获取目标类别的名称 (如果 y 是数字 0, 1, ...)\n",
    "    target_names = [str(c) for c in sorted(y.unique())]\n",
    "    print(classification_report(y_test, y_pred, target_names=target_names))\n",
    "except Exception as e:\n",
    "    print(f\"生成 classification report 时出错: {e}\")\n",
    "    print(\"Classification Report (无 target_names):\")\n",
    "    print(classification_report(y_test, y_pred))\n",
    "\n",
    "\n",
    "# Confusion Matrix\n",
    "print(\"\\nConfusion Matrix:\")\n",
    "cm = confusion_matrix(y_test, y_pred)\n",
    "print(cm)\n",
    "\n",
    "# 可视化 Confusion Matrix\n",
    "plt.figure(figsize=(8, 6))\n",
    "sns.heatmap(cm, annot=True, fmt='d', cmap='Blues', xticklabels=target_names, yticklabels=target_names)\n",
    "plt.xlabel('Predicted Label')\n",
    "plt.ylabel('True Label')\n",
    "plt.title('Confusion Matrix')\n",
    "plt.show()\n",
    "\n",
    "print(\"\\n脚本执行完毕。\")"
   ]
  },
  {
   "cell_type": "code",
   "execution_count": 18,
   "id": "7fb0ee3e",
   "metadata": {},
   "outputs": [
    {
     "name": "stdout",
     "output_type": "stream",
     "text": [
      "\n",
      "保存测试集预测概率 (CatBoost)...\n",
      "CatBoost 概率已保存到 predictions/probabilities_catboost.npy\n"
     ]
    }
   ],
   "source": [
    "# --- Save Probabilities for Ensemble ---\n",
    "print(\"\\n保存测试集预测概率 (CatBoost)...\")\n",
    "y_proba_catboost = model.predict_proba(X_test)\n",
    "np.save('predictions/probabilities_catboost.npy', y_proba_catboost)\n",
    "print(\"CatBoost 概率已保存到 predictions/probabilities_catboost.npy\")"
   ]
  }
 ],
 "metadata": {
  "kernelspec": {
   "display_name": "IS6941",
   "language": "python",
   "name": "python3"
  },
  "language_info": {
   "codemirror_mode": {
    "name": "ipython",
    "version": 3
   },
   "file_extension": ".py",
   "mimetype": "text/x-python",
   "name": "python",
   "nbconvert_exporter": "python",
   "pygments_lexer": "ipython3",
   "version": "3.11.11"
  }
 },
 "nbformat": 4,
 "nbformat_minor": 5
}
