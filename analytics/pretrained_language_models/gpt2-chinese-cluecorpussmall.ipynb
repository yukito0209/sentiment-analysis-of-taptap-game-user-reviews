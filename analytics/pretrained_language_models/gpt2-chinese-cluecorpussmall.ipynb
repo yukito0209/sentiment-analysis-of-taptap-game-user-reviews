{
 "cells": [
  {
   "cell_type": "code",
   "execution_count": 1,
   "id": "3baeb2dc",
   "metadata": {},
   "outputs": [],
   "source": [
    "import pandas as pd\n",
    "import torch\n",
    "from sklearn.model_selection import train_test_split\n",
    "from sklearn.metrics import classification_report, confusion_matrix, accuracy_score, precision_recall_fscore_support\n",
    "import seaborn as sns\n",
    "import matplotlib.pyplot as plt\n",
    "import numpy as np\n",
    "from datasets import Dataset, DatasetDict\n",
    "from transformers import AutoTokenizer, AutoModelForSequenceClassification, TrainingArguments, Trainer\n",
    "import os"
   ]
  },
  {
   "cell_type": "code",
   "execution_count": 2,
   "id": "a291ae43",
   "metadata": {},
   "outputs": [],
   "source": [
    "# --- 1. 配置参数 ---\n",
    "MODEL_NAME = \"uer/gpt2-chinese-cluecorpussmall\"\n",
    "DATA_PATH = r\"D:\\GitHubRepos\\is6941-ml-social-media\\taptap\\data\\integrated\\lm_cleaned_taptap_reviews.csv\" # 使用原始字符串防止转义问题\n",
    "TEXT_COLUMN = \"review_content\"\n",
    "LABEL_COLUMN = \"sentiment\"\n",
    "NUM_LABELS = 2 # 情感标签数量 (例如 0: 负面, 1: 正面)\n",
    "TEST_SIZE = 0.2 # 测试集比例\n",
    "OUTPUT_DIR = \"./results\" # 模型检查点和日志的输出目录\n",
    "LOGGING_DIR = \"./logs\"   # TensorBoard 日志目录\n",
    "TRAIN_BATCH_SIZE = 16    # 根据你的 GPU 显存调整\n",
    "EVAL_BATCH_SIZE = 32     # 根据你的 GPU 显存调整\n",
    "NUM_EPOCHS = 1           # 训练轮数，可以先设为1快速查看效果，后续增加\n",
    "LEARNING_RATE = 2e-5\n",
    "SEED = 42                # 随机种子，保证可复现性"
   ]
  },
  {
   "cell_type": "code",
   "execution_count": 3,
   "id": "6fbd9aa2",
   "metadata": {},
   "outputs": [
    {
     "name": "stdout",
     "output_type": "stream",
     "text": [
      "使用 GPU: NVIDIA GeForce RTX 4070 SUPER\n",
      "GPU 总显存: 11.99 GB\n"
     ]
    }
   ],
   "source": [
    "# --- 2. 检查 GPU ---\n",
    "if torch.cuda.is_available():\n",
    "    device = torch.device(\"cuda\")\n",
    "    print(f\"使用 GPU: {torch.cuda.get_device_name(0)}\")\n",
    "    # 获取可用显存并打印（可选）\n",
    "    total_mem = torch.cuda.get_device_properties(0).total_memory / (1024**3)\n",
    "    print(f\"GPU 总显存: {total_mem:.2f} GB\")\n",
    "else:\n",
    "    device = torch.device(\"cpu\")\n",
    "    print(\"使用 CPU\")"
   ]
  },
  {
   "cell_type": "code",
   "execution_count": 4,
   "id": "7694b01f",
   "metadata": {},
   "outputs": [
    {
     "name": "stdout",
     "output_type": "stream",
     "text": [
      "正在从 D:\\GitHubRepos\\is6941-ml-social-media\\taptap\\data\\integrated\\lm_cleaned_taptap_reviews.csv 加载数据...\n",
      "数据加载成功，总共 39985 条记录。\n",
      "数据预览:\n",
      "     user_id       username  rating                 review_content  likes  \\\n",
      "0  696432312            。。。       5            可以体验一下，剧情不错，但可能会有点迷      0   \n",
      "1  679295528           云淡风轻       5                           剧情很好      0   \n",
      "2  700357357        qqqqq美女       5  刺激，感受到了友情，亲情，自我，爱慕，传承，等待 ，与纯真      1   \n",
      "3  402380140  User402380140       5            毋庸置疑的神作 第一次回溯时间的是葵啊      2   \n",
      "4  434114561           不忆往事       5                   没有别的可以说，剧情神作      1   \n",
      "\n",
      "          publish_time       device_model         game_name  sentiment  \n",
      "0  2025-04-05 20:13:00        OPPO K7x中国版  7_years_from_now          1  \n",
      "1  2025-04-05 17:35:00   Honor Play 40 5G  7_years_from_now          1  \n",
      "2  2025-04-04 22:59:00        OPPO PGGM10  7_years_from_now          1  \n",
      "3  2025-04-03 09:48:00  Redmi Note 10 Pro  7_years_from_now          1  \n",
      "4  2025-04-03 01:08:00        Vivo V2148A  7_years_from_now          1  \n",
      "\n",
      "标签分布:\n",
      "label\n",
      "1    26353\n",
      "0    13632\n",
      "Name: count, dtype: int64\n",
      "移除缺失值后，剩余 39985 条记录。\n",
      "\n",
      "训练集大小: 31988\n",
      "测试集大小: 7997\n",
      "\n",
      "数据集已转换为 Hugging Face Datasets 格式:\n",
      "DatasetDict({\n",
      "    train: Dataset({\n",
      "        features: ['text', 'label', '__index_level_0__'],\n",
      "        num_rows: 31988\n",
      "    })\n",
      "    test: Dataset({\n",
      "        features: ['text', 'label', '__index_level_0__'],\n",
      "        num_rows: 7997\n",
      "    })\n",
      "})\n"
     ]
    }
   ],
   "source": [
    "# --- 3. 加载和准备数据 ---\n",
    "print(f\"正在从 {DATA_PATH} 加载数据...\")\n",
    "try:\n",
    "    df = pd.read_csv(DATA_PATH)\n",
    "    print(f\"数据加载成功，总共 {len(df)} 条记录。\")\n",
    "    print(\"数据预览:\")\n",
    "    print(df.head())\n",
    "\n",
    "    # 选择需要的列并重命名 (transformers 期望 'text' 和 'label')\n",
    "    df = df[[TEXT_COLUMN, LABEL_COLUMN]].copy()\n",
    "    df.rename(columns={TEXT_COLUMN: 'text', LABEL_COLUMN: 'label'}, inplace=True)\n",
    "\n",
    "    # 检查标签分布\n",
    "    print(\"\\n标签分布:\")\n",
    "    print(df['label'].value_counts())\n",
    "\n",
    "    # 确保标签是整数类型\n",
    "    df['label'] = df['label'].astype(int)\n",
    "\n",
    "    # 移除包含 NaN 的行 (特别是文本列)\n",
    "    df.dropna(subset=['text', 'label'], inplace=True)\n",
    "    df = df[df['text'].apply(lambda x: isinstance(x, str))] # 确保文本是字符串\n",
    "    print(f\"移除缺失值后，剩余 {len(df)} 条记录。\")\n",
    "\n",
    "    # 划分训练集和测试集\n",
    "    train_df, test_df = train_test_split(df, test_size=TEST_SIZE, random_state=SEED, stratify=df['label'])\n",
    "    print(f\"\\n训练集大小: {len(train_df)}\")\n",
    "    print(f\"测试集大小: {len(test_df)}\")\n",
    "\n",
    "    # 转换为 Hugging Face Datasets 格式\n",
    "    train_dataset = Dataset.from_pandas(train_df)\n",
    "    test_dataset = Dataset.from_pandas(test_df)\n",
    "    dataset_dict = DatasetDict({\n",
    "        'train': train_dataset,\n",
    "        'test': test_dataset\n",
    "    })\n",
    "    print(\"\\n数据集已转换为 Hugging Face Datasets 格式:\")\n",
    "    print(dataset_dict)\n",
    "\n",
    "except FileNotFoundError:\n",
    "    print(f\"错误：找不到数据文件 {DATA_PATH}\")\n",
    "    exit()\n",
    "except Exception as e:\n",
    "    print(f\"加载或处理数据时出错: {e}\")\n",
    "    exit()"
   ]
  },
  {
   "cell_type": "code",
   "execution_count": 5,
   "id": "87a2da4b",
   "metadata": {},
   "outputs": [
    {
     "name": "stdout",
     "output_type": "stream",
     "text": [
      "\n",
      "正在加载 Tokenizer 和模型: uer/gpt2-chinese-cluecorpussmall...\n"
     ]
    },
    {
     "data": {
      "application/vnd.jupyter.widget-view+json": {
       "model_id": "99dd8de298e547bd8ff1dfe5ae3a55b7",
       "version_major": 2,
       "version_minor": 0
      },
      "text/plain": [
       "tokenizer_config.json:   0%|          | 0.00/217 [00:00<?, ?B/s]"
      ]
     },
     "metadata": {},
     "output_type": "display_data"
    },
    {
     "name": "stderr",
     "output_type": "stream",
     "text": [
      "c:\\Users\\wjw20\\miniconda3\\envs\\IS6941\\Lib\\site-packages\\huggingface_hub\\file_download.py:144: UserWarning: `huggingface_hub` cache-system uses symlinks by default to efficiently store duplicated files but your machine does not support them in C:\\Users\\wjw20\\.cache\\huggingface\\hub\\models--uer--gpt2-chinese-cluecorpussmall. Caching files will still work but in a degraded version that might require more space on your disk. This warning can be disabled by setting the `HF_HUB_DISABLE_SYMLINKS_WARNING` environment variable. For more details, see https://huggingface.co/docs/huggingface_hub/how-to-cache#limitations.\n",
      "To support symlinks on Windows, you either need to activate Developer Mode or to run Python as an administrator. In order to activate developer mode, see this article: https://docs.microsoft.com/en-us/windows/apps/get-started/enable-your-device-for-development\n",
      "  warnings.warn(message)\n"
     ]
    },
    {
     "data": {
      "application/vnd.jupyter.widget-view+json": {
       "model_id": "9459bda2b3ca4d7297bc70e0254135ee",
       "version_major": 2,
       "version_minor": 0
      },
      "text/plain": [
       "config.json:   0%|          | 0.00/577 [00:00<?, ?B/s]"
      ]
     },
     "metadata": {},
     "output_type": "display_data"
    },
    {
     "data": {
      "application/vnd.jupyter.widget-view+json": {
       "model_id": "8ae58bb1082748679bd7d1f1360a03d5",
       "version_major": 2,
       "version_minor": 0
      },
      "text/plain": [
       "vocab.txt:   0%|          | 0.00/110k [00:00<?, ?B/s]"
      ]
     },
     "metadata": {},
     "output_type": "display_data"
    },
    {
     "data": {
      "application/vnd.jupyter.widget-view+json": {
       "model_id": "12ab12a95e994f21b0a0fcaa1c02084b",
       "version_major": 2,
       "version_minor": 0
      },
      "text/plain": [
       "special_tokens_map.json:   0%|          | 0.00/112 [00:00<?, ?B/s]"
      ]
     },
     "metadata": {},
     "output_type": "display_data"
    },
    {
     "data": {
      "application/vnd.jupyter.widget-view+json": {
       "model_id": "9ec66c1dbcb944c4b3e7a80af6ae11d6",
       "version_major": 2,
       "version_minor": 0
      },
      "text/plain": [
       "pytorch_model.bin:   0%|          | 0.00/421M [00:00<?, ?B/s]"
      ]
     },
     "metadata": {},
     "output_type": "display_data"
    },
    {
     "name": "stderr",
     "output_type": "stream",
     "text": [
      "Some weights of GPT2ForSequenceClassification were not initialized from the model checkpoint at uer/gpt2-chinese-cluecorpussmall and are newly initialized: ['score.weight']\n",
      "You should probably TRAIN this model on a down-stream task to be able to use it for predictions and inference.\n"
     ]
    },
    {
     "name": "stdout",
     "output_type": "stream",
     "text": [
      "Tokenizer 和模型加载成功。\n"
     ]
    },
    {
     "data": {
      "application/vnd.jupyter.widget-view+json": {
       "model_id": "794336414e0f4ceab88ec4765f02e018",
       "version_major": 2,
       "version_minor": 0
      },
      "text/plain": [
       "model.safetensors:   0%|          | 0.00/421M [00:00<?, ?B/s]"
      ]
     },
     "metadata": {},
     "output_type": "display_data"
    }
   ],
   "source": [
    "# --- 4. 加载 Tokenizer 和模型 ---\n",
    "print(f\"\\n正在加载 Tokenizer 和模型: {MODEL_NAME}...\")\n",
    "try:\n",
    "    tokenizer = AutoTokenizer.from_pretrained(MODEL_NAME)\n",
    "    # GPT2 默认没有 pad token，需要设置一个\n",
    "    if tokenizer.pad_token is None:\n",
    "        tokenizer.pad_token = tokenizer.eos_token\n",
    "        print(\"Tokenizer 没有 pad_token, 已设置为 eos_token。\")\n",
    "\n",
    "    model = AutoModelForSequenceClassification.from_pretrained(\n",
    "        MODEL_NAME,\n",
    "        num_labels=NUM_LABELS,\n",
    "        # 告知模型 pad_token_id，以便在计算损失时忽略填充部分\n",
    "        pad_token_id=tokenizer.pad_token_id\n",
    "    )\n",
    "    # 确保模型配置的 pad_token_id 与 tokenizer 一致\n",
    "    model.config.pad_token_id = tokenizer.pad_token_id\n",
    "\n",
    "    print(\"Tokenizer 和模型加载成功。\")\n",
    "except Exception as e:\n",
    "    print(f\"加载 Tokenizer 或模型时出错: {e}\")\n",
    "    exit()"
   ]
  },
  {
   "cell_type": "code",
   "execution_count": 6,
   "id": "9fde5432",
   "metadata": {},
   "outputs": [
    {
     "name": "stdout",
     "output_type": "stream",
     "text": [
      "\n",
      "正在对数据集进行 Tokenize...\n"
     ]
    },
    {
     "data": {
      "application/vnd.jupyter.widget-view+json": {
       "model_id": "023cb97feed54cd7ba23fe8cecf87174",
       "version_major": 2,
       "version_minor": 0
      },
      "text/plain": [
       "Map:   0%|          | 0/31988 [00:00<?, ? examples/s]"
      ]
     },
     "metadata": {},
     "output_type": "display_data"
    },
    {
     "data": {
      "application/vnd.jupyter.widget-view+json": {
       "model_id": "64a402ec81d547e5b387fd14d96b85ab",
       "version_major": 2,
       "version_minor": 0
      },
      "text/plain": [
       "Map:   0%|          | 0/7997 [00:00<?, ? examples/s]"
      ]
     },
     "metadata": {},
     "output_type": "display_data"
    },
    {
     "name": "stdout",
     "output_type": "stream",
     "text": [
      "Tokenize 完成。\n"
     ]
    }
   ],
   "source": [
    "# --- 5. 数据预处理 (Tokenization) ---\n",
    "def tokenize_function(examples):\n",
    "    # padding='max_length' 会将所有序列填充到模型最大长度，可能较慢且占用显存\n",
    "    # truncation=True 确保超过最大长度的序列被截断\n",
    "    # max_length 可以根据需要设置，或者不设置让其使用模型默认最大长度\n",
    "    return tokenizer(examples[\"text\"], padding=\"max_length\", truncation=True, max_length=512)\n",
    "\n",
    "print(\"\\n正在对数据集进行 Tokenize...\")\n",
    "tokenized_datasets = dataset_dict.map(tokenize_function, batched=True)\n",
    "print(\"Tokenize 完成。\")\n",
    "\n",
    "# 移除原始文本列，只保留模型需要的输入\n",
    "tokenized_datasets = tokenized_datasets.remove_columns([\"text\", \"__index_level_0__\"]) # 移除pandas转换时可能产生的索引列\n",
    "tokenized_datasets.set_format(\"torch\") # 设置格式为 PyTorch tensors"
   ]
  },
  {
   "cell_type": "code",
   "execution_count": 7,
   "id": "6bbbad37",
   "metadata": {},
   "outputs": [],
   "source": [
    "# --- 6. 定义评估指标 ---\n",
    "def compute_metrics(eval_pred):\n",
    "    logits, labels = eval_pred\n",
    "    predictions = np.argmax(logits, axis=-1)\n",
    "    precision, recall, f1, _ = precision_recall_fscore_support(labels, predictions, average='weighted') # 使用 weighted 考虑类别不平衡\n",
    "    acc = accuracy_score(labels, predictions)\n",
    "    return {\n",
    "        'accuracy': acc,\n",
    "        'f1': f1,\n",
    "        'precision': precision,\n",
    "        'recall': recall\n",
    "    }"
   ]
  },
  {
   "cell_type": "code",
   "execution_count": 9,
   "id": "c135c5d8",
   "metadata": {},
   "outputs": [
    {
     "name": "stdout",
     "output_type": "stream",
     "text": [
      "\n",
      "配置训练参数...\n"
     ]
    }
   ],
   "source": [
    "# --- 7. 配置训练参数 ---\n",
    "print(\"\\n配置训练参数...\")\n",
    "training_args = TrainingArguments(\n",
    "    output_dir=OUTPUT_DIR,                  # 输出目录\n",
    "    num_train_epochs=NUM_EPOCHS,            # 训练轮数\n",
    "    per_device_train_batch_size=TRAIN_BATCH_SIZE, # 训练批次大小\n",
    "    per_device_eval_batch_size=EVAL_BATCH_SIZE,   # 评估批次大小\n",
    "    learning_rate=LEARNING_RATE,            # 学习率\n",
    "    warmup_steps=500,                       # 预热步数\n",
    "    weight_decay=0.01,                      # 权重衰减\n",
    "    logging_dir=LOGGING_DIR,                # 日志目录\n",
    "    logging_steps=100,                      # 每 N 步记录一次日志\n",
    "    eval_strategy=\"epoch\",            # 每个 epoch 结束后进行评估\n",
    "    save_strategy=\"epoch\",                  # 每个 epoch 结束后保存模型\n",
    "    load_best_model_at_end=True,            # 训练结束后加载最佳模型\n",
    "    metric_for_best_model=\"accuracy\",       # 使用准确率作为最佳模型指标\n",
    "    greater_is_better=True,                 # 指标值越大越好\n",
    "    seed=SEED,                              # 随机种子\n",
    "    fp16=torch.cuda.is_available(),         # 如果有 GPU，启用混合精度训练 (可能需要安装 apex)\n",
    "    report_to=\"tensorboard\",                # 将日志报告给 TensorBoard\n",
    "    # push_to_hub=False,                    # 不推送到 Hugging Face Hub\n",
    ")"
   ]
  },
  {
   "cell_type": "code",
   "execution_count": 11,
   "id": "c341c122",
   "metadata": {},
   "outputs": [
    {
     "name": "stderr",
     "output_type": "stream",
     "text": [
      "C:\\Users\\wjw20\\AppData\\Local\\Temp\\ipykernel_21476\\3130012700.py:2: FutureWarning: `tokenizer` is deprecated and will be removed in version 5.0.0 for `Trainer.__init__`. Use `processing_class` instead.\n",
      "  trainer = Trainer(\n"
     ]
    }
   ],
   "source": [
    "# --- 8. 初始化 Trainer ---\n",
    "trainer = Trainer(\n",
    "    model=model,                         # 预训练模型\n",
    "    args=training_args,                  # 训练参数\n",
    "    train_dataset=tokenized_datasets[\"train\"], # 训练数据集\n",
    "    eval_dataset=tokenized_datasets[\"test\"],  # 评估数据集 (这里暂时用 test 代替 validation)\n",
    "    compute_metrics=compute_metrics,     # 评估指标计算函数\n",
    "    tokenizer=tokenizer,                 # Tokenizer (可选，用于数据整理)\n",
    ")"
   ]
  },
  {
   "cell_type": "code",
   "execution_count": 12,
   "id": "14dcdf51",
   "metadata": {},
   "outputs": [
    {
     "name": "stdout",
     "output_type": "stream",
     "text": [
      "\n",
      "开始训练...\n"
     ]
    },
    {
     "data": {
      "text/html": [
       "\n",
       "    <div>\n",
       "      \n",
       "      <progress value='2000' max='2000' style='width:300px; height:20px; vertical-align: middle;'></progress>\n",
       "      [2000/2000 10:39, Epoch 1/1]\n",
       "    </div>\n",
       "    <table border=\"1\" class=\"dataframe\">\n",
       "  <thead>\n",
       " <tr style=\"text-align: left;\">\n",
       "      <th>Epoch</th>\n",
       "      <th>Training Loss</th>\n",
       "      <th>Validation Loss</th>\n",
       "      <th>Accuracy</th>\n",
       "      <th>F1</th>\n",
       "      <th>Precision</th>\n",
       "      <th>Recall</th>\n",
       "    </tr>\n",
       "  </thead>\n",
       "  <tbody>\n",
       "    <tr>\n",
       "      <td>1</td>\n",
       "      <td>0.355200</td>\n",
       "      <td>0.367976</td>\n",
       "      <td>0.831687</td>\n",
       "      <td>0.829941</td>\n",
       "      <td>0.829474</td>\n",
       "      <td>0.831687</td>\n",
       "    </tr>\n",
       "  </tbody>\n",
       "</table><p>"
      ],
      "text/plain": [
       "<IPython.core.display.HTML object>"
      ]
     },
     "metadata": {},
     "output_type": "display_data"
    },
    {
     "name": "stdout",
     "output_type": "stream",
     "text": [
      "训练完成。\n",
      "***** train metrics *****\n",
      "  epoch                    =        1.0\n",
      "  total_flos               =  7784329GF\n",
      "  train_loss               =     0.4152\n",
      "  train_runtime            = 0:10:40.06\n",
      "  train_samples_per_second =     49.976\n",
      "  train_steps_per_second   =      3.125\n"
     ]
    }
   ],
   "source": [
    "# --- 9. 开始训练 ---\n",
    "print(\"\\n开始训练...\")\n",
    "try:\n",
    "    train_result = trainer.train()\n",
    "    print(\"训练完成。\")\n",
    "    # 打印训练摘要\n",
    "    metrics = train_result.metrics\n",
    "    trainer.log_metrics(\"train\", metrics)\n",
    "    trainer.save_metrics(\"train\", metrics)\n",
    "    trainer.save_state() # 保存训练状态\n",
    "    trainer.save_model(os.path.join(OUTPUT_DIR, \"best_model\")) # 保存最好的模型\n",
    "except Exception as e:\n",
    "    print(f\"训练过程中发生错误: {e}\")\n",
    "    # 如果训练中断，尝试加载之前保存的最佳模型（如果存在）\n",
    "    try:\n",
    "        print(\"尝试加载之前可能保存的最佳模型...\")\n",
    "        model = AutoModelForSequenceClassification.from_pretrained(OUTPUT_DIR)\n",
    "        tokenizer = AutoTokenizer.from_pretrained(OUTPUT_DIR)\n",
    "        trainer = Trainer(model=model, args=training_args, tokenizer=tokenizer) # 重新初始化 Trainer，仅用于预测\n",
    "        print(\"成功加载模型，将进行评估。\")\n",
    "    except Exception as load_err:\n",
    "        print(f\"加载模型失败: {load_err}\")\n",
    "        print(\"无法继续评估。\")\n",
    "        exit()"
   ]
  },
  {
   "cell_type": "code",
   "execution_count": 14,
   "id": "e8a18dec",
   "metadata": {},
   "outputs": [
    {
     "name": "stdout",
     "output_type": "stream",
     "text": [
      "\n",
      "在测试集上进行最终评估...\n"
     ]
    },
    {
     "data": {
      "text/html": [],
      "text/plain": [
       "<IPython.core.display.HTML object>"
      ]
     },
     "metadata": {},
     "output_type": "display_data"
    },
    {
     "name": "stdout",
     "output_type": "stream",
     "text": [
      "评估完成。\n",
      "测试集评估结果:\n",
      "***** eval metrics *****\n",
      "  epoch                   =        1.0\n",
      "  eval_accuracy           =     0.8317\n",
      "  eval_f1                 =     0.8299\n",
      "  eval_loss               =      0.368\n",
      "  eval_precision          =     0.8295\n",
      "  eval_recall             =     0.8317\n",
      "  eval_runtime            = 0:00:48.97\n",
      "  eval_samples_per_second =    163.285\n",
      "  eval_steps_per_second   =      5.105\n",
      "\n",
      "获取测试集预测结果...\n",
      "\n",
      "生成分类报告:\n",
      "              precision    recall  f1-score   support\n",
      "\n",
      "     Class 0       0.77      0.71      0.74      2726\n",
      "     Class 1       0.86      0.89      0.87      5271\n",
      "\n",
      "    accuracy                           0.83      7997\n",
      "   macro avg       0.82      0.80      0.81      7997\n",
      "weighted avg       0.83      0.83      0.83      7997\n",
      "\n",
      "\n",
      "生成混淆矩阵:\n",
      "[[1947  779]\n",
      " [ 567 4704]]\n",
      "混淆矩阵图像已保存至: ./results\\confusion_matrix.png\n",
      "\n",
      "任务完成。\n"
     ]
    },
    {
     "data": {
      "image/png": "[encoded data removed]",
      "text/plain": [
       "<Figure size 800x600 with 2 Axes>"
      ]
     },
     "metadata": {},
     "output_type": "display_data"
    }
   ],
   "source": [
    "# --- 10. 在测试集上评估 ---\n",
    "print(\"\\n在测试集上进行最终评估...\")\n",
    "try:\n",
    "    eval_metrics = trainer.evaluate(eval_dataset=tokenized_datasets[\"test\"])\n",
    "    print(\"评估完成。\")\n",
    "    print(\"测试集评估结果:\")\n",
    "    trainer.log_metrics(\"eval\", eval_metrics)\n",
    "    trainer.save_metrics(\"eval\", eval_metrics)\n",
    "\n",
    "    # 获取预测结果\n",
    "    print(\"\\n获取测试集预测结果...\")\n",
    "    predictions = trainer.predict(tokenized_datasets[\"test\"])\n",
    "    predicted_labels = np.argmax(predictions.predictions, axis=1)\n",
    "    true_labels = predictions.label_ids\n",
    "\n",
    "    # --- 11. 生成评估报告和混淆矩阵 ---\n",
    "    print(\"\\n生成分类报告:\")\n",
    "    report = classification_report(true_labels, predicted_labels, target_names=[f'Class {i}' for i in range(NUM_LABELS)])\n",
    "    print(report)\n",
    "\n",
    "    print(\"\\n生成混淆矩阵:\")\n",
    "    cm = confusion_matrix(true_labels, predicted_labels)\n",
    "    print(cm)\n",
    "\n",
    "    # 可视化混淆矩阵\n",
    "    plt.figure(figsize=(8, 6))\n",
    "    sns.heatmap(cm, annot=True, fmt='d', cmap='Blues', xticklabels=[f'Pred {i}' for i in range(NUM_LABELS)], yticklabels=[f'True {i}' for i in range(NUM_LABELS)])\n",
    "    plt.xlabel('Predicted Label')\n",
    "    plt.ylabel('True Label')\n",
    "    plt.title('Confusion Matrix')\n",
    "    # 保存图像\n",
    "    plt.savefig(os.path.join(OUTPUT_DIR, \"confusion_matrix.png\"))\n",
    "    print(f\"混淆矩阵图像已保存至: {os.path.join(OUTPUT_DIR, 'confusion_matrix.png')}\")\n",
    "    # plt.show() # 如果在交互式环境可以取消注释显示图像\n",
    "\n",
    "except Exception as e:\n",
    "    print(f\"评估或生成报告时出错: {e}\")\n",
    "\n",
    "print(\"\\n任务完成。\")"
   ]
  }
 ],
 "metadata": {
  "kernelspec": {
   "display_name": "IS6941",
   "language": "python",
   "name": "python3"
  },
  "language_info": {
   "codemirror_mode": {
    "name": "ipython",
    "version": 3
   },
   "file_extension": ".py",
   "mimetype": "text/x-python",
   "name": "python",
   "nbconvert_exporter": "python",
   "pygments_lexer": "ipython3",
   "version": "3.11.11"
  }
 },
 "nbformat": 4,
 "nbformat_minor": 5
}
