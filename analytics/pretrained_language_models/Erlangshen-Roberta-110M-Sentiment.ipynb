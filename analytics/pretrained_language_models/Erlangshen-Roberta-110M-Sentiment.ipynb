{
 "cells": [
  {
   "cell_type": "code",
   "execution_count": 12,
   "id": "88fe551c",
   "metadata": {},
   "outputs": [],
   "source": [
    "import pandas as pd\n",
    "import torch\n",
    "from torch.utils.data import Dataset, DataLoader\n",
    "from transformers import AutoTokenizer, AutoModelForSequenceClassification\n",
    "from sklearn.model_selection import train_test_split\n",
    "from sklearn.metrics import classification_report, confusion_matrix\n",
    "import numpy as np\n",
    "from tqdm.auto import tqdm # For progress bars"
   ]
  },
  {
   "cell_type": "code",
   "execution_count": 13,
   "id": "b92e86f6",
   "metadata": {},
   "outputs": [],
   "source": [
    "# --- 1. 配置 ---\n",
    "MODEL_NAME = \"IDEA-CCNL/Erlangshen-Roberta-110M-Sentiment\"\n",
    "# !!! 请确保文件路径正确 !!!\n",
    "DATA_PATH = r\"D:\\GitHubRepos\\is6941-ml-social-media\\taptap\\data\\integrated\\lm_cleaned_taptap_reviews.csv\" # 使用原始字符串(r\"...\")处理Windows路径\n",
    "TEXT_COLUMN = \"review_content\" # 包含评论文本的列名\n",
    "LABEL_COLUMN = \"sentiment\"    # 包含情感标签的列名 (假设 0=负面, 1=正面)\n",
    "TEST_SIZE = 0.2               # 测试集所占比例 (例如 20%)\n",
    "RANDOM_STATE = 42             # 用于复现结果的随机种子\n",
    "BATCH_SIZE = 32               # 每个批次处理的数据量，根据GPU显存调整\n",
    "MAX_LENGTH = 512              # 输入文本的最大长度，根据模型和数据调整"
   ]
  },
  {
   "cell_type": "code",
   "execution_count": 14,
   "id": "f85433f2",
   "metadata": {},
   "outputs": [
    {
     "name": "stdout",
     "output_type": "stream",
     "text": [
      "发现并使用 GPU: NVIDIA GeForce RTX 4070 SUPER\n"
     ]
    }
   ],
   "source": [
    "# --- 2. GPU 设置 ---\n",
    "if torch.cuda.is_available():\n",
    "    device = torch.device(\"cuda\")\n",
    "    print(f\"发现并使用 GPU: {torch.cuda.get_device_name(0)}\")\n",
    "else:\n",
    "    device = torch.device(\"cpu\")\n",
    "    print(\"未发现可用 GPU, 使用 CPU\")"
   ]
  },
  {
   "cell_type": "code",
   "execution_count": 15,
   "id": "d8c2bc3e",
   "metadata": {},
   "outputs": [
    {
     "name": "stdout",
     "output_type": "stream",
     "text": [
      "\n",
      "正在加载数据: D:\\GitHubRepos\\is6941-ml-social-media\\taptap\\data\\integrated\\lm_cleaned_taptap_reviews.csv...\n",
      "成功加载 39985 条数据.\n",
      "检查 'review_content' 和 'sentiment' 列是否存在空值...\n",
      "\n",
      "数据样本 (前5行):\n",
      "                  review_content  sentiment\n",
      "0            可以体验一下，剧情不错，但可能会有点迷          1\n",
      "1                           剧情很好          1\n",
      "2  刺激，感受到了友情，亲情，自我，爱慕，传承，等待 ，与纯真          1\n",
      "3            毋庸置疑的神作 第一次回溯时间的是葵啊          1\n",
      "4                   没有别的可以说，剧情神作          1\n",
      "\n",
      "标签分布:\n",
      "sentiment\n",
      "1    26353\n",
      "0    13632\n",
      "Name: count, dtype: int64\n"
     ]
    }
   ],
   "source": [
    "# --- 3. 加载和准备数据 ---\n",
    "print(f\"\\n正在加载数据: {DATA_PATH}...\")\n",
    "try:\n",
    "    df = pd.read_csv(DATA_PATH)\n",
    "    print(f\"成功加载 {len(df)} 条数据.\")\n",
    "\n",
    "    # 基本数据检查和清理\n",
    "    print(f\"检查 '{TEXT_COLUMN}' 和 '{LABEL_COLUMN}' 列是否存在空值...\")\n",
    "    initial_rows = len(df)\n",
    "    df = df.dropna(subset=[TEXT_COLUMN, LABEL_COLUMN])\n",
    "    if len(df) < initial_rows:\n",
    "        print(f\"已删除 {initial_rows - len(df)} 行包含空值的记录.\")\n",
    "\n",
    "    # 确保标签是整数类型\n",
    "    df[LABEL_COLUMN] = df[LABEL_COLUMN].astype(int)\n",
    "\n",
    "    print(\"\\n数据样本 (前5行):\")\n",
    "    print(df[[TEXT_COLUMN, LABEL_COLUMN]].head())\n",
    "\n",
    "    print(\"\\n标签分布:\")\n",
    "    print(df[LABEL_COLUMN].value_counts())\n",
    "\n",
    "except FileNotFoundError:\n",
    "    print(f\"错误: 数据文件未找到，请检查路径: {DATA_PATH}\")\n",
    "    exit()\n",
    "except KeyError as e:\n",
    "    print(f\"错误: CSV文件中缺少列: {e}. 请确保 '{TEXT_COLUMN}' 和 '{LABEL_COLUMN}' 列存在。\")\n",
    "    exit()\n",
    "except Exception as e:\n",
    "    print(f\"加载数据时发生错误: {e}\")\n",
    "    exit()"
   ]
  },
  {
   "cell_type": "code",
   "execution_count": 16,
   "id": "ed2805b1",
   "metadata": {},
   "outputs": [
    {
     "name": "stdout",
     "output_type": "stream",
     "text": [
      "\n",
      "正在划分数据集 (测试集比例: 0.2)...\n",
      "训练集样本数: 31988\n",
      "测试集样本数: 7997\n"
     ]
    }
   ],
   "source": [
    "# --- 4. 划分数据集 ---\n",
    "print(f\"\\n正在划分数据集 (测试集比例: {TEST_SIZE})...\")\n",
    "train_texts, test_texts, train_labels, test_labels = train_test_split(\n",
    "    df[TEXT_COLUMN].tolist(),\n",
    "    df[LABEL_COLUMN].tolist(),\n",
    "    test_size=TEST_SIZE,\n",
    "    random_state=RANDOM_STATE,\n",
    "    stratify=df[LABEL_COLUMN].tolist() # 保持训练集和测试集中标签比例一致\n",
    ")\n",
    "print(f\"训练集样本数: {len(train_texts)}\")\n",
    "print(f\"测试集样本数: {len(test_texts)}\")"
   ]
  },
  {
   "cell_type": "code",
   "execution_count": 17,
   "id": "1ab94a9c",
   "metadata": {},
   "outputs": [
    {
     "name": "stdout",
     "output_type": "stream",
     "text": [
      "\n",
      "正在加载预训练模型和分词器: IDEA-CCNL/Erlangshen-Roberta-110M-Sentiment...\n",
      "模型和分词器加载成功.\n"
     ]
    }
   ],
   "source": [
    "# --- 5. 加载模型和分词器 ---\n",
    "print(f\"\\n正在加载预训练模型和分词器: {MODEL_NAME}...\")\n",
    "try:\n",
    "    tokenizer = AutoTokenizer.from_pretrained(MODEL_NAME)\n",
    "    model = AutoModelForSequenceClassification.from_pretrained(MODEL_NAME)\n",
    "    model.to(device) # 将模型移动到 GPU 或 CPU\n",
    "    print(\"模型和分词器加载成功.\")\n",
    "except Exception as e:\n",
    "    print(f\"加载模型或分词器时出错: {e}\")\n",
    "    print(\"请检查模型名称是否正确，以及是否已安装 transformers 和 torch 库。\")\n",
    "    exit()"
   ]
  },
  {
   "cell_type": "code",
   "execution_count": 18,
   "id": "d7b784fc",
   "metadata": {},
   "outputs": [],
   "source": [
    "# --- 6. 创建 PyTorch 数据集类 ---\n",
    "class SentimentReviewDataset(Dataset):\n",
    "    def __init__(self, texts, labels, tokenizer, max_len):\n",
    "        self.texts = texts\n",
    "        self.labels = labels\n",
    "        self.tokenizer = tokenizer\n",
    "        self.max_len = max_len\n",
    "\n",
    "    def __len__(self):\n",
    "        return len(self.texts)\n",
    "\n",
    "    def __getitem__(self, idx):\n",
    "        text = str(self.texts[idx]) # 确保输入是字符串\n",
    "        label = int(self.labels[idx]) # 确保标签是整数\n",
    "\n",
    "        encoding = self.tokenizer.encode_plus(\n",
    "            text,\n",
    "            add_special_tokens=True,      # 添加 [CLS] 和 [SEP]\n",
    "            max_length=self.max_len,      # 设定最大长度\n",
    "            return_token_type_ids=False,  # RoBERTa 不需要 segment IDs\n",
    "            padding='max_length',         # 填充到最大长度\n",
    "            truncation=True,              # 截断超过最大长度的文本\n",
    "            return_attention_mask=True,   # 返回 attention mask\n",
    "            return_tensors='pt',          # 返回 PyTorch 张量\n",
    "        )\n",
    "\n",
    "        return {\n",
    "            'review_text': text, # 可以保留原始文本用于调试\n",
    "            'input_ids': encoding['input_ids'].flatten(),\n",
    "            'attention_mask': encoding['attention_mask'].flatten(),\n",
    "            'labels': torch.tensor(label, dtype=torch.long)\n",
    "        }"
   ]
  },
  {
   "cell_type": "code",
   "execution_count": 19,
   "id": "259d3c73",
   "metadata": {},
   "outputs": [],
   "source": [
    "# --- 7. 创建 DataLoader ---\n",
    "# 注意：我们只需要为测试集创建 DataLoader 来进行预测评估\n",
    "test_dataset = SentimentReviewDataset(test_texts, test_labels, tokenizer, MAX_LENGTH)\n",
    "test_dataloader = DataLoader(test_dataset, batch_size=BATCH_SIZE) # 不需要 shuffle 测试集"
   ]
  },
  {
   "cell_type": "code",
   "execution_count": 20,
   "id": "bf0511f9",
   "metadata": {},
   "outputs": [],
   "source": [
    "# --- 8. 定义预测函数 ---\n",
    "def get_predictions(model, dataloader, device):\n",
    "    model.eval()  # 将模型设置为评估模式\n",
    "    predictions = []\n",
    "    real_values = []\n",
    "\n",
    "    with torch.no_grad(): # 在评估模式下不计算梯度\n",
    "        progress_bar = tqdm(dataloader, desc=\"模型预测中\")\n",
    "        for batch in progress_bar:\n",
    "            # 将批次数据移动到指定设备 (GPU/CPU)\n",
    "            input_ids = batch['input_ids'].to(device)\n",
    "            attention_mask = batch['attention_mask'].to(device)\n",
    "            labels = batch['labels'].to(device)\n",
    "\n",
    "            # 模型前向传播\n",
    "            outputs = model(input_ids=input_ids, attention_mask=attention_mask)\n",
    "            logits = outputs.logits\n",
    "\n",
    "            # 获取预测结果 (概率最高的类别索引)\n",
    "            preds = torch.argmax(logits, dim=1)\n",
    "\n",
    "            # 将预测结果和真实标签从 GPU 移回 CPU 并存储\n",
    "            predictions.extend(preds.cpu().numpy())\n",
    "            real_values.extend(labels.cpu().numpy())\n",
    "\n",
    "    return np.array(predictions), np.array(real_values)"
   ]
  },
  {
   "cell_type": "code",
   "execution_count": 21,
   "id": "aba74e9e",
   "metadata": {},
   "outputs": [
    {
     "name": "stdout",
     "output_type": "stream",
     "text": [
      "\n",
      "开始在测试集上进行预测...\n"
     ]
    },
    {
     "data": {
      "application/vnd.jupyter.widget-view+json": {
       "model_id": "8a687379ac4d44b7a1051d296958666a",
       "version_major": 2,
       "version_minor": 0
      },
      "text/plain": [
       "模型预测中:   0%|          | 0/250 [00:00<?, ?it/s]"
      ]
     },
     "metadata": {},
     "output_type": "display_data"
    }
   ],
   "source": [
    "# --- 9. 执行预测 ---\n",
    "print(\"\\n开始在测试集上进行预测...\")\n",
    "y_pred, y_true = get_predictions(model, test_dataloader, device)"
   ]
  },
  {
   "cell_type": "code",
   "execution_count": 23,
   "id": "e17d440f",
   "metadata": {},
   "outputs": [
    {
     "name": "stdout",
     "output_type": "stream",
     "text": [
      "\n",
      "--- 模型评估结果 ---\n",
      "\n",
      "分类报告 (Classification Report):\n",
      "              precision    recall  f1-score   support\n",
      "\n",
      "      负面 (0)     0.5793    0.8346    0.6839      2726\n",
      "      正面 (1)     0.8892    0.6866    0.7749      5271\n",
      "\n",
      "    accuracy                         0.7370      7997\n",
      "   macro avg     0.7343    0.7606    0.7294      7997\n",
      "weighted avg     0.7836    0.7370    0.7439      7997\n",
      "\n",
      "\n",
      "混淆矩阵 (Confusion Matrix):\n",
      "[[2275  451]\n",
      " [1652 3619]]\n"
     ]
    },
    {
     "data": {
      "image/png": "[encoded data removed]",
      "text/plain": [
       "<Figure size 800x600 with 2 Axes>"
      ]
     },
     "metadata": {},
     "output_type": "display_data"
    },
    {
     "name": "stdout",
     "output_type": "stream",
     "text": [
      "\n",
      "已显示混淆矩阵图。\n",
      "\n",
      "脚本执行完毕。\n"
     ]
    }
   ],
   "source": [
    "# --- 10. 评估结果 ---\n",
    "print(\"\\n--- 模型评估结果 ---\")\n",
    "\n",
    "# 检查预测和真实标签是否为空\n",
    "if len(y_pred) == 0 or len(y_true) == 0:\n",
    "    print(\"错误: 未能生成预测结果。请检查预测流程或数据。\")\n",
    "elif len(np.unique(y_pred)) == 1:\n",
    "     print(f\"警告: 模型仅预测出一种类别: {np.unique(y_pred)[0]}\")\n",
    "     print(\"这可能表示模型性能不佳或数据存在问题。\")\n",
    "\n",
    "# 定义标签名称 (根据您的数据，0=负面, 1=正面)\n",
    "# 如果您的标签有其他含义，请修改这里的名称\n",
    "target_names_map = {0: '负面 (0)', 1: '正面 (1)'}\n",
    "# 获取实际存在的标签，并按顺序生成报告用的标签名列表\n",
    "unique_labels = sorted(np.unique(np.concatenate((y_true, y_pred))))\n",
    "target_names_report = [target_names_map.get(label, f'未知标签 ({label})') for label in unique_labels]\n",
    "\n",
    "\n",
    "print(\"\\n分类报告 (Classification Report):\")\n",
    "# 使用 zero_division=0 防止某些类别没有预测样本时出现警告\n",
    "print(classification_report(y_true, y_pred, target_names=target_names_report, digits=4, zero_division=0))\n",
    "\n",
    "print(\"\\n混淆矩阵 (Confusion Matrix):\")\n",
    "cm = confusion_matrix(y_true, y_pred, labels=unique_labels) # 确保矩阵标签顺序正确\n",
    "print(cm)\n",
    "\n",
    "# 可选：使用 seaborn 和 matplotlib 可视化混淆矩阵\n",
    "try:\n",
    "    import seaborn as sns\n",
    "    import matplotlib.pyplot as plt\n",
    "    # Matplotlib 显示中文设置（如果需要）\n",
    "    plt.rcParams['font.sans-serif'] = ['SimHei'] # 指定默认字体为黑体\n",
    "    plt.rcParams['axes.unicode_minus'] = False   # 解决保存图像是负号'-'显示为方块的问题\n",
    "\n",
    "    plt.figure(figsize=(8, 6))\n",
    "    sns.heatmap(cm, annot=True, fmt='d', cmap='Blues',\n",
    "                xticklabels=target_names_report, yticklabels=target_names_report)\n",
    "    plt.xlabel('预测标签')\n",
    "    plt.ylabel('真实标签')\n",
    "    plt.title('混淆矩阵')\n",
    "    plt.show()\n",
    "    print(\"\\n已显示混淆矩阵图。\")\n",
    "except ImportError:\n",
    "    print(\"\\n提示: 安装 seaborn 和 matplotlib (`pip install seaborn matplotlib`) 可以可视化混淆矩阵。\")\n",
    "except Exception as e:\n",
    "    print(f\"\\n绘制混淆矩阵时出错: {e}\")\n",
    "\n",
    "\n",
    "print(\"\\n脚本执行完毕。\")"
   ]
  }
 ],
 "metadata": {
  "kernelspec": {
   "display_name": "IS6941",
   "language": "python",
   "name": "python3"
  },
  "language_info": {
   "codemirror_mode": {
    "name": "ipython",
    "version": 3
   },
   "file_extension": ".py",
   "mimetype": "text/x-python",
   "name": "python",
   "nbconvert_exporter": "python",
   "pygments_lexer": "ipython3",
   "version": "3.11.11"
  }
 },
 "nbformat": 4,
 "nbformat_minor": 5
}
