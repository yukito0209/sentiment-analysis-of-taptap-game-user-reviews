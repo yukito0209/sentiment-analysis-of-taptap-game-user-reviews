{
 "cells": [
  {
   "cell_type": "code",
   "execution_count": 1,
   "id": "387f15f0",
   "metadata": {},
   "outputs": [],
   "source": [
    "import torch\n",
    "import pandas as pd\n",
    "from transformers import BertTokenizer, BertForSequenceClassification, Trainer, TrainingArguments\n",
    "from sklearn.model_selection import train_test_split\n",
    "from sklearn.metrics import classification_report, confusion_matrix\n",
    "from torch.utils.data import Dataset\n",
    "from transformers import EarlyStoppingCallback\n",
    "from torch.nn import CrossEntropyLoss"
   ]
  },
  {
   "cell_type": "code",
   "execution_count": 2,
   "id": "3c3c0455",
   "metadata": {},
   "outputs": [
    {
     "name": "stdout",
     "output_type": "stream",
     "text": [
      "Using device: cuda\n"
     ]
    }
   ],
   "source": [
    "# 检查GPU可用性\n",
    "device = torch.device(\"cuda\" if torch.cuda.is_available() else \"cpu\")\n",
    "print(f\"Using device: {device}\")"
   ]
  },
  {
   "cell_type": "code",
   "execution_count": 3,
   "id": "4fc33f02",
   "metadata": {},
   "outputs": [],
   "source": [
    "# 数据加载\n",
    "df = pd.read_csv(r\"D:\\GitHubRepos\\is6941-ml-social-media\\taptap\\data\\integrated\\lm_cleaned_taptap_reviews.csv\")\n",
    "df = df[['review_content', 'sentiment']].dropna()\n",
    "df['sentiment'] = df['sentiment'].astype(int)"
   ]
  },
  {
   "cell_type": "code",
   "execution_count": 4,
   "id": "39dcb0ea",
   "metadata": {},
   "outputs": [],
   "source": [
    "# 划分数据集\n",
    "train_texts, test_texts, train_labels, test_labels = train_test_split(\n",
    "    df['review_content'].tolist(),\n",
    "    df['sentiment'].tolist(),\n",
    "    test_size=0.2,\n",
    "    random_state=42\n",
    ")"
   ]
  },
  {
   "cell_type": "code",
   "execution_count": 5,
   "id": "f5b73d72",
   "metadata": {},
   "outputs": [],
   "source": [
    "# 修正后的数据集类\n",
    "class SentimentDataset(Dataset):\n",
    "    def __init__(self, texts, labels, tokenizer):\n",
    "        self.encodings = tokenizer(texts, \n",
    "                                 padding='max_length',  # 统一填充长度\n",
    "                                 truncation=True, \n",
    "                                 max_length=256)\n",
    "        self.labels = labels\n",
    "\n",
    "    def __getitem__(self, idx):\n",
    "        return {\n",
    "            'input_ids': torch.tensor(self.encodings['input_ids'][idx]),\n",
    "            'attention_mask': torch.tensor(self.encodings['attention_mask'][idx]),\n",
    "            'labels': torch.tensor(self.labels[idx])\n",
    "        }\n",
    "\n",
    "    def __len__(self):\n",
    "        return len(self.labels)"
   ]
  },
  {
   "cell_type": "code",
   "execution_count": 6,
   "id": "51aef860",
   "metadata": {},
   "outputs": [],
   "source": [
    "# 计算类别权重\n",
    "class_weights = torch.tensor(\n",
    "    [len(train_labels)/sum(train_labels),  # 正样本权重\n",
    "     len(train_labels)/(len(train_labels)-sum(train_labels))],  # 负样本权重\n",
    "    device=device\n",
    ")"
   ]
  },
  {
   "cell_type": "code",
   "execution_count": 7,
   "id": "feefe433",
   "metadata": {},
   "outputs": [
    {
     "name": "stderr",
     "output_type": "stream",
     "text": [
      "c:\\Users\\wjw20\\miniconda3\\envs\\IS6941\\Lib\\site-packages\\huggingface_hub\\file_download.py:896: FutureWarning: `resume_download` is deprecated and will be removed in version 1.0.0. Downloads always resume when possible. If you want to force a new download, use `force_download=True`.\n",
      "  warnings.warn(\n"
     ]
    },
    {
     "data": {
      "application/vnd.jupyter.widget-view+json": {
       "model_id": "6cd756288719432f9899cd46aa2730c5",
       "version_major": 2,
       "version_minor": 0
      },
      "text/plain": [
       "vocab.txt:   0%|          | 0.00/110k [00:00<?, ?B/s]"
      ]
     },
     "metadata": {},
     "output_type": "display_data"
    },
    {
     "name": "stderr",
     "output_type": "stream",
     "text": [
      "c:\\Users\\wjw20\\miniconda3\\envs\\IS6941\\Lib\\site-packages\\huggingface_hub\\file_download.py:144: UserWarning: `huggingface_hub` cache-system uses symlinks by default to efficiently store duplicated files but your machine does not support them in C:\\Users\\wjw20\\.cache\\huggingface\\hub\\models--hfl--chinese-roberta-wwm-ext. Caching files will still work but in a degraded version that might require more space on your disk. This warning can be disabled by setting the `HF_HUB_DISABLE_SYMLINKS_WARNING` environment variable. For more details, see https://huggingface.co/docs/huggingface_hub/how-to-cache#limitations.\n",
      "To support symlinks on Windows, you either need to activate Developer Mode or to run Python as an administrator. In order to activate developer mode, see this article: https://docs.microsoft.com/en-us/windows/apps/get-started/enable-your-device-for-development\n",
      "  warnings.warn(message)\n"
     ]
    },
    {
     "data": {
      "application/vnd.jupyter.widget-view+json": {
       "model_id": "8055b44d25fb4d2e9557e849a772802d",
       "version_major": 2,
       "version_minor": 0
      },
      "text/plain": [
       "added_tokens.json:   0%|          | 0.00/2.00 [00:00<?, ?B/s]"
      ]
     },
     "metadata": {},
     "output_type": "display_data"
    },
    {
     "data": {
      "application/vnd.jupyter.widget-view+json": {
       "model_id": "9e8bfd11ea524659a32832d13103709d",
       "version_major": 2,
       "version_minor": 0
      },
      "text/plain": [
       "special_tokens_map.json:   0%|          | 0.00/112 [00:00<?, ?B/s]"
      ]
     },
     "metadata": {},
     "output_type": "display_data"
    },
    {
     "data": {
      "application/vnd.jupyter.widget-view+json": {
       "model_id": "92918b96c8cd4702a56ce2f088ed1abe",
       "version_major": 2,
       "version_minor": 0
      },
      "text/plain": [
       "tokenizer_config.json:   0%|          | 0.00/19.0 [00:00<?, ?B/s]"
      ]
     },
     "metadata": {},
     "output_type": "display_data"
    },
    {
     "data": {
      "application/vnd.jupyter.widget-view+json": {
       "model_id": "4a7ba825c12743ea819e17b8aeab6c89",
       "version_major": 2,
       "version_minor": 0
      },
      "text/plain": [
       "config.json:   0%|          | 0.00/689 [00:00<?, ?B/s]"
      ]
     },
     "metadata": {},
     "output_type": "display_data"
    },
    {
     "data": {
      "application/vnd.jupyter.widget-view+json": {
       "model_id": "a0ba353316a84a2596720717ab0991dd",
       "version_major": 2,
       "version_minor": 0
      },
      "text/plain": [
       "pytorch_model.bin:   0%|          | 0.00/412M [00:00<?, ?B/s]"
      ]
     },
     "metadata": {},
     "output_type": "display_data"
    },
    {
     "name": "stderr",
     "output_type": "stream",
     "text": [
      "c:\\Users\\wjw20\\miniconda3\\envs\\IS6941\\Lib\\site-packages\\transformers\\modeling_utils.py:463: FutureWarning: You are using `torch.load` with `weights_only=False` (the current default value), which uses the default pickle module implicitly. It is possible to construct malicious pickle data which will execute arbitrary code during unpickling (See https://github.com/pytorch/pytorch/blob/main/SECURITY.md#untrusted-models for more details). In a future release, the default value for `weights_only` will be flipped to `True`. This limits the functions that could be executed during unpickling. Arbitrary objects will no longer be allowed to be loaded via this mode unless they are explicitly allowlisted by the user via `torch.serialization.add_safe_globals`. We recommend you start setting `weights_only=True` for any use case where you don't have full control of the loaded file. Please open an issue on GitHub for any issues related to this experimental feature.\n",
      "  return torch.load(checkpoint_file, map_location=\"cpu\")\n",
      "Some weights of the model checkpoint at hfl/chinese-roberta-wwm-ext were not used when initializing BertForSequenceClassification: ['cls.predictions.transform.dense.bias', 'cls.predictions.bias', 'cls.seq_relationship.bias', 'cls.predictions.decoder.weight', 'cls.seq_relationship.weight', 'cls.predictions.transform.LayerNorm.bias', 'cls.predictions.transform.LayerNorm.weight', 'cls.predictions.transform.dense.weight']\n",
      "- This IS expected if you are initializing BertForSequenceClassification from the checkpoint of a model trained on another task or with another architecture (e.g. initializing a BertForSequenceClassification model from a BertForPreTraining model).\n",
      "- This IS NOT expected if you are initializing BertForSequenceClassification from the checkpoint of a model that you expect to be exactly identical (initializing a BertForSequenceClassification model from a BertForSequenceClassification model).\n",
      "Some weights of BertForSequenceClassification were not initialized from the model checkpoint at hfl/chinese-roberta-wwm-ext and are newly initialized: ['classifier.weight', 'classifier.bias']\n",
      "You should probably TRAIN this model on a down-stream task to be able to use it for predictions and inference.\n"
     ]
    }
   ],
   "source": [
    "# 初始化模型和分词器\n",
    "tokenizer = BertTokenizer.from_pretrained(\"hfl/chinese-roberta-wwm-ext\")\n",
    "# 修改模型初始化\n",
    "model = BertForSequenceClassification.from_pretrained(\n",
    "    \"hfl/chinese-roberta-wwm-ext\",\n",
    "    num_labels=2,\n",
    ")\n",
    "\n",
    "# 将类别权重移动到GPU\n",
    "class_weights = class_weights.to(device)"
   ]
  },
  {
   "cell_type": "code",
   "execution_count": 8,
   "id": "e296c591",
   "metadata": {},
   "outputs": [],
   "source": [
    "# 创建数据集（保持CPU张量）\n",
    "train_dataset = SentimentDataset(train_texts, train_labels, tokenizer)\n",
    "test_dataset = SentimentDataset(test_texts, test_labels, tokenizer)"
   ]
  },
  {
   "cell_type": "code",
   "execution_count": 9,
   "id": "8f0a1a6f",
   "metadata": {},
   "outputs": [],
   "source": [
    "# 训练配置（自动处理数据到GPU）\n",
    "training_args = TrainingArguments(\n",
    "    output_dir='./results',\n",
    "    per_device_train_batch_size=32,\n",
    "    per_device_eval_batch_size=64,\n",
    "    num_train_epochs=3,\n",
    "    evaluation_strategy=\"epoch\",\n",
    "    fp16=True,  # 自动启用pin_memory\n",
    "    dataloader_pin_memory=True,  # 显式启用内存固定\n",
    "    # learning_rate=3e-5,  # 初始学习率从默认的5e-5调低\n",
    "    # warmup_ratio=0.1,    # 添加学习率预热\n",
    "    # weight_decay=0.01,   # L2正则化\n",
    "    # gradient_accumulation_steps=2,   # 梯度累积\n",
    ")"
   ]
  },
  {
   "cell_type": "code",
   "execution_count": 10,
   "id": "d3c3be0c",
   "metadata": {},
   "outputs": [],
   "source": [
    "# 自定义评估函数\n",
    "def compute_metrics(pred):\n",
    "    labels = pred.label_ids\n",
    "    preds = pred.predictions.argmax(-1)\n",
    "    print(\"\\nClassification Report:\")\n",
    "    print(classification_report(labels, preds))\n",
    "    print(\"Confusion Matrix:\")\n",
    "    print(confusion_matrix(labels, preds))\n",
    "    return {'accuracy': (preds == labels).mean()}"
   ]
  },
  {
   "cell_type": "code",
   "execution_count": 11,
   "id": "3340eec8",
   "metadata": {},
   "outputs": [],
   "source": [
    "# 创建训练器\n",
    "trainer = Trainer(\n",
    "    model=model,\n",
    "    args=training_args,\n",
    "    train_dataset=train_dataset,\n",
    "    eval_dataset=test_dataset,\n",
    "    compute_metrics=compute_metrics,\n",
    ")"
   ]
  },
  {
   "cell_type": "code",
   "execution_count": 12,
   "id": "3bfe45c5",
   "metadata": {},
   "outputs": [
    {
     "name": "stderr",
     "output_type": "stream",
     "text": [
      "c:\\Users\\wjw20\\miniconda3\\envs\\IS6941\\Lib\\site-packages\\transformers\\optimization.py:411: FutureWarning: This implementation of AdamW is deprecated and will be removed in a future version. Use the PyTorch implementation torch.optim.AdamW instead, or set `no_deprecation_warning=True` to disable this warning\n",
      "  warnings.warn(\n"
     ]
    },
    {
     "data": {
      "application/vnd.jupyter.widget-view+json": {
       "model_id": "b9967c129fdb4eeeb38dfbd4264a2f63",
       "version_major": 2,
       "version_minor": 0
      },
      "text/plain": [
       "  0%|          | 0/3000 [00:00<?, ?it/s]"
      ]
     },
     "metadata": {},
     "output_type": "display_data"
    },
    {
     "name": "stdout",
     "output_type": "stream",
     "text": [
      "{'loss': 0.4236, 'learning_rate': 4.166666666666667e-05, 'epoch': 0.5}\n",
      "{'loss': 0.3798, 'learning_rate': 3.3333333333333335e-05, 'epoch': 1.0}\n"
     ]
    },
    {
     "data": {
      "application/vnd.jupyter.widget-view+json": {
       "model_id": "1666ed6d3e5a41a3b089fe431a89b326",
       "version_major": 2,
       "version_minor": 0
      },
      "text/plain": [
       "  0%|          | 0/125 [00:00<?, ?it/s]"
      ]
     },
     "metadata": {},
     "output_type": "display_data"
    },
    {
     "name": "stdout",
     "output_type": "stream",
     "text": [
      "\n",
      "Classification Report:\n",
      "              precision    recall  f1-score   support\n",
      "\n",
      "           0       0.80      0.70      0.75      2740\n",
      "           1       0.85      0.91      0.88      5257\n",
      "\n",
      "    accuracy                           0.84      7997\n",
      "   macro avg       0.83      0.80      0.81      7997\n",
      "weighted avg       0.83      0.84      0.83      7997\n",
      "\n",
      "Confusion Matrix:\n",
      "[[1920  820]\n",
      " [ 482 4775]]\n",
      "{'eval_loss': 0.3587197959423065, 'eval_accuracy': 0.8371889458546955, 'eval_runtime': 16.0102, 'eval_samples_per_second': 499.493, 'eval_steps_per_second': 7.808, 'epoch': 1.0}\n",
      "{'loss': 0.2815, 'learning_rate': 2.5e-05, 'epoch': 1.5}\n",
      "{'loss': 0.2718, 'learning_rate': 1.6666666666666667e-05, 'epoch': 2.0}\n"
     ]
    },
    {
     "data": {
      "application/vnd.jupyter.widget-view+json": {
       "model_id": "abc2af2ee9384cb3982c7b09b56506b7",
       "version_major": 2,
       "version_minor": 0
      },
      "text/plain": [
       "  0%|          | 0/125 [00:00<?, ?it/s]"
      ]
     },
     "metadata": {},
     "output_type": "display_data"
    },
    {
     "name": "stdout",
     "output_type": "stream",
     "text": [
      "\n",
      "Classification Report:\n",
      "              precision    recall  f1-score   support\n",
      "\n",
      "           0       0.78      0.74      0.76      2740\n",
      "           1       0.87      0.89      0.88      5257\n",
      "\n",
      "    accuracy                           0.84      7997\n",
      "   macro avg       0.83      0.82      0.82      7997\n",
      "weighted avg       0.84      0.84      0.84      7997\n",
      "\n",
      "Confusion Matrix:\n",
      "[[2038  702]\n",
      " [ 572 4685]]\n",
      "{'eval_loss': 0.3609601557254791, 'eval_accuracy': 0.8406902588470676, 'eval_runtime': 15.9971, 'eval_samples_per_second': 499.904, 'eval_steps_per_second': 7.814, 'epoch': 2.0}\n",
      "{'loss': 0.1583, 'learning_rate': 8.366666666666667e-06, 'epoch': 2.5}\n",
      "{'loss': 0.1541, 'learning_rate': 3.3333333333333334e-08, 'epoch': 3.0}\n"
     ]
    },
    {
     "data": {
      "application/vnd.jupyter.widget-view+json": {
       "model_id": "9e0044661018411c9d91e4a999a49b27",
       "version_major": 2,
       "version_minor": 0
      },
      "text/plain": [
       "  0%|          | 0/125 [00:00<?, ?it/s]"
      ]
     },
     "metadata": {},
     "output_type": "display_data"
    },
    {
     "name": "stdout",
     "output_type": "stream",
     "text": [
      "\n",
      "Classification Report:\n",
      "              precision    recall  f1-score   support\n",
      "\n",
      "           0       0.78      0.75      0.76      2740\n",
      "           1       0.87      0.89      0.88      5257\n",
      "\n",
      "    accuracy                           0.84      7997\n",
      "   macro avg       0.82      0.82      0.82      7997\n",
      "weighted avg       0.84      0.84      0.84      7997\n",
      "\n",
      "Confusion Matrix:\n",
      "[[2057  683]\n",
      " [ 593 4664]]\n",
      "{'eval_loss': 0.47668203711509705, 'eval_accuracy': 0.8404401650618982, 'eval_runtime': 15.8009, 'eval_samples_per_second': 506.11, 'eval_steps_per_second': 7.911, 'epoch': 3.0}\n",
      "{'train_runtime': 673.5443, 'train_samples_per_second': 142.476, 'train_steps_per_second': 4.454, 'train_loss': 0.2781887003580729, 'epoch': 3.0}\n"
     ]
    },
    {
     "data": {
      "text/plain": [
       "TrainOutput(global_step=3000, training_loss=0.2781887003580729, metrics={'train_runtime': 673.5443, 'train_samples_per_second': 142.476, 'train_steps_per_second': 4.454, 'train_loss': 0.2781887003580729, 'epoch': 3.0})"
      ]
     },
     "execution_count": 12,
     "metadata": {},
     "output_type": "execute_result"
    }
   ],
   "source": [
    "# 开始训练（自动处理数据迁移）\n",
    "trainer.train()"
   ]
  },
  {
   "cell_type": "code",
   "execution_count": 13,
   "id": "64179990",
   "metadata": {},
   "outputs": [
    {
     "data": {
      "application/vnd.jupyter.widget-view+json": {
       "model_id": "273794986fee418eac5713ebbcceb97b",
       "version_major": 2,
       "version_minor": 0
      },
      "text/plain": [
       "  0%|          | 0/125 [00:00<?, ?it/s]"
      ]
     },
     "metadata": {},
     "output_type": "display_data"
    },
    {
     "name": "stdout",
     "output_type": "stream",
     "text": [
      "\n",
      "Classification Report:\n",
      "              precision    recall  f1-score   support\n",
      "\n",
      "           0       0.78      0.75      0.76      2740\n",
      "           1       0.87      0.89      0.88      5257\n",
      "\n",
      "    accuracy                           0.84      7997\n",
      "   macro avg       0.82      0.82      0.82      7997\n",
      "weighted avg       0.84      0.84      0.84      7997\n",
      "\n",
      "Confusion Matrix:\n",
      "[[2057  683]\n",
      " [ 593 4664]]\n",
      "\n",
      "Final Test Set Evaluation:\n",
      "\n",
      "Classification Report:\n",
      "              precision    recall  f1-score   support\n",
      "\n",
      "           0       0.78      0.75      0.76      2740\n",
      "           1       0.87      0.89      0.88      5257\n",
      "\n",
      "    accuracy                           0.84      7997\n",
      "   macro avg       0.82      0.82      0.82      7997\n",
      "weighted avg       0.84      0.84      0.84      7997\n",
      "\n",
      "Confusion Matrix:\n",
      "[[2057  683]\n",
      " [ 593 4664]]\n"
     ]
    },
    {
     "data": {
      "text/plain": [
       "{'accuracy': 0.8404401650618982}"
      ]
     },
     "execution_count": 13,
     "metadata": {},
     "output_type": "execute_result"
    }
   ],
   "source": [
    "# 最终测试集评估\n",
    "test_results = trainer.predict(test_dataset)\n",
    "print(\"\\nFinal Test Set Evaluation:\")\n",
    "compute_metrics(test_results)"
   ]
  }
 ],
 "metadata": {
  "kernelspec": {
   "display_name": "IS6941",
   "language": "python",
   "name": "python3"
  },
  "language_info": {
   "codemirror_mode": {
    "name": "ipython",
    "version": 3
   },
   "file_extension": ".py",
   "mimetype": "text/x-python",
   "name": "python",
   "nbconvert_exporter": "python",
   "pygments_lexer": "ipython3",
   "version": "3.11.11"
  }
 },
 "nbformat": 4,
 "nbformat_minor": 5
}
