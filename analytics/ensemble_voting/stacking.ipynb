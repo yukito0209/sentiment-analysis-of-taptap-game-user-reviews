{
 "cells": [
  {
   "cell_type": "markdown",
   "id": "48febd85",
   "metadata": {},
   "source": [
    "#### 关键改动:\n",
    "\n",
    "1. 计算 scale_pos_weight: 在步骤 1 数据加载和对齐完成后，计算了 scale_pos_weight_value。\n",
    "2. 添加到 cb_params 和 xgb_params: 将计算得到的 scale_pos_weight_value 添加到了 CatBoost 和 XGBoost 的参数字典中。\n",
    "3. 训练时自动应用: 在 K-Fold 循环中初始化 CatBoostClassifier 和 XGBClassifier 时，它们会自动从参数字典中读取并使用 scale_pos_weight。"
   ]
  },
  {
   "cell_type": "code",
   "execution_count": 1,
   "id": "a935871c",
   "metadata": {},
   "outputs": [
    {
     "name": "stdout",
     "output_type": "stream",
     "text": [
      "WARNING:tensorflow:From c:\\Users\\wjw20\\miniconda3\\envs\\IS6941\\Lib\\site-packages\\tf_keras\\src\\losses.py:2976: The name tf.losses.sparse_softmax_cross_entropy is deprecated. Please use tf.compat.v1.losses.sparse_softmax_cross_entropy instead.\n",
      "\n"
     ]
    }
   ],
   "source": [
    "import pandas as pd\n",
    "import numpy as np\n",
    "import os\n",
    "import time\n",
    "import matplotlib.pyplot as plt\n",
    "import seaborn as sns\n",
    "import joblib # For potentially saving/loading models/preprocessors\n",
    "\n",
    "# --- Sklearn ---\n",
    "from sklearn.model_selection import train_test_split, StratifiedKFold\n",
    "from sklearn.metrics import classification_report, confusion_matrix, accuracy_score, log_loss\n",
    "from sklearn.linear_model import LogisticRegression\n",
    "from sklearn.feature_extraction.text import TfidfVectorizer\n",
    "from sklearn.preprocessing import OneHotEncoder, StandardScaler\n",
    "from sklearn.compose import ColumnTransformer\n",
    "from sklearn.pipeline import Pipeline\n",
    "from sklearn.impute import SimpleImputer\n",
    "\n",
    "# --- Model Libraries ---\n",
    "import catboost\n",
    "from catboost import CatBoostClassifier, Pool\n",
    "import xgboost as xgb\n",
    "import torch\n",
    "from torch.utils.data import Dataset, DataLoader\n",
    "from transformers import BertTokenizer, BertForSequenceClassification, Trainer, TrainingArguments, logging as hf_logging, EarlyStoppingCallback\n",
    "import lightgbm as lgb # Import LightGBM for Meta-Model"
   ]
  },
  {
   "cell_type": "code",
   "execution_count": 2,
   "id": "d5f9d614",
   "metadata": {},
   "outputs": [
    {
     "name": "stdout",
     "output_type": "stream",
     "text": [
      "Using device: cuda\n"
     ]
    }
   ],
   "source": [
    "# --- Configuration ---\n",
    "# Paths\n",
    "data_path_cleaned = r'D:\\GitHubRepos\\is6941-ml-social-media\\taptap\\data\\integrated\\cleaned_taptap_reviews.csv' # For CatBoost, XGBoost\n",
    "data_path_lm = r'D:\\GitHubRepos\\is6941-ml-social-media\\taptap\\data\\integrated\\lm_cleaned_taptap_reviews.csv' # For BERT\n",
    "output_dir = 'stacking_outputs_balanced' # Changed output dir name\n",
    "os.makedirs(output_dir, exist_ok=True)\n",
    "\n",
    "# Split & CV Params\n",
    "test_size = 0.2\n",
    "n_splits = 5 # Number of folds for K-Fold CV\n",
    "random_state = 42\n",
    "\n",
    "# Target Column\n",
    "target_column = 'sentiment'\n",
    "composite_key_cols = ['user_id', 'publish_time', 'game_name']\n",
    "\n",
    "# Base Model Params (Fixed params)\n",
    "# CatBoost\n",
    "cb_params = {\n",
    "    'iterations': 1000, 'learning_rate': 0.1, 'depth': 8,\n",
    "    'loss_function': 'Logloss', 'eval_metric': 'Accuracy', # Can keep Accuracy for eval metric\n",
    "    'task_type': \"GPU\", 'devices': '0', 'random_seed': random_state,\n",
    "    'verbose': 0,\n",
    "    'early_stopping_rounds': 50,\n",
    "    'text_features': ['review_content_cleaned'], # Use renamed column\n",
    "    'cat_features': ['game_name']\n",
    "    # scale_pos_weight will be added later\n",
    "}\n",
    "# XGBoost\n",
    "xgb_params = {\n",
    "    'objective': 'binary:logistic', 'eval_metric': 'logloss',\n",
    "    'use_label_encoder': False, 'n_estimators': 1200,\n",
    "    'learning_rate': 0.05, 'max_depth': 10, 'subsample': 0.8,\n",
    "    'colsample_bytree': 0.8, 'random_state': random_state,\n",
    "    'early_stopping_rounds': 50, 'tree_method': 'hist', 'device': 'cuda'\n",
    "    # scale_pos_weight will be added later\n",
    "}\n",
    "# BERT\n",
    "bert_model_name = \"bert-base-chinese\"\n",
    "bert_train_args = TrainingArguments(\n",
    "    output_dir=os.path.join(output_dir, 'bert_temp'), # Simple temp dir\n",
    "    per_device_train_batch_size=32,\n",
    "    per_device_eval_batch_size=64,\n",
    "    num_train_epochs=3, # Fixed epochs\n",
    "    eval_strategy=\"no\", # No eval needed during OOF training\n",
    "    save_strategy=\"no\",\n",
    "    logging_steps=9999, # Suppress logging\n",
    "    fp16=True,\n",
    "    dataloader_pin_memory=True,\n",
    "    report_to=\"none\",\n",
    ")\n",
    "\n",
    "# Disable excessive logging from transformers\n",
    "hf_logging.set_verbosity_error()\n",
    "\n",
    "# --- GPU Check ---\n",
    "device = torch.device(\"cuda\" if torch.cuda.is_available() else \"cpu\")\n",
    "print(f\"Using device: {device}\")\n",
    "if device == torch.device(\"cpu\"):\n",
    "    print(\"警告: 未检测到兼容 CUDA 的 GPU。训练会非常慢。\")\n",
    "    cb_params['task_type'] = 'CPU'\n",
    "    if 'devices' in cb_params: del cb_params['devices']\n",
    "    xgb_params['device'] = 'cpu'\n",
    "    bert_train_args.fp16 = False"
   ]
  },
  {
   "cell_type": "code",
   "execution_count": 3,
   "id": "265cd9bd",
   "metadata": {},
   "outputs": [
    {
     "name": "stdout",
     "output_type": "stream",
     "text": [
      "加载数据并使用复合键对齐...\n",
      "数据对齐完成。最终样本数: 39985\n",
      "计算得到的 scale_pos_weight: 0.5173 (负样本数: 13632, 正样本数: 26353)\n"
     ]
    }
   ],
   "source": [
    "# --- 1. Load Data and Align (Using Composite Key) ---\n",
    "print(\"加载数据并使用复合键对齐...\")\n",
    "try:\n",
    "    # Load raw data\n",
    "    df_cleaned_raw = pd.read_csv(data_path_cleaned)\n",
    "    df_lm_raw = pd.read_csv(data_path_lm)\n",
    "\n",
    "    # Define columns needed\n",
    "    cb_xgb_only_feature_cols = ['review_content', 'likes']\n",
    "    bert_only_feature_cols = ['review_content']\n",
    "    target_col_list = [target_column]\n",
    "    needed_cols_cleaned = list(set(composite_key_cols + cb_xgb_only_feature_cols + target_col_list + ['game_name']))\n",
    "    needed_cols_lm = list(set(composite_key_cols + bert_only_feature_cols + target_col_list))\n",
    "\n",
    "    df_cleaned_raw = df_cleaned_raw[needed_cols_cleaned]\n",
    "    df_lm_raw = df_lm_raw[needed_cols_lm]\n",
    "\n",
    "    # Ensure Key Column Types are Consistent\n",
    "    try:\n",
    "        df_cleaned_raw['publish_time'] = pd.to_datetime(df_cleaned_raw['publish_time'], errors='coerce')\n",
    "        df_lm_raw['publish_time'] = pd.to_datetime(df_lm_raw['publish_time'], errors='coerce')\n",
    "        df_cleaned_raw.dropna(subset=['publish_time'], inplace=True)\n",
    "        df_lm_raw.dropna(subset=['publish_time'], inplace=True)\n",
    "    except Exception as e:\n",
    "        print(f\"警告：转换 'publish_time' 为 datetime 时出错: {e}. 可能影响合并。\")\n",
    "    for col in ['user_id', 'game_name']:\n",
    "        if col in df_cleaned_raw.columns: df_cleaned_raw[col] = df_cleaned_raw[col].astype(str)\n",
    "        if col in df_lm_raw.columns: df_lm_raw[col] = df_lm_raw[col].astype(str)\n",
    "\n",
    "    # Clean df_cleaned\n",
    "    df_cleaned_processed = df_cleaned_raw.copy()\n",
    "    df_cleaned_processed['review_content'] = df_cleaned_processed['review_content'].fillna('')\n",
    "    if 'game_name' in df_cleaned_processed.columns: df_cleaned_processed['game_name'] = df_cleaned_processed['game_name'].fillna('Unknown')\n",
    "    df_cleaned_processed.dropna(subset=['likes', target_column], inplace=True)\n",
    "    df_cleaned_processed[target_column] = df_cleaned_processed[target_column].astype(int)\n",
    "    df_cleaned_processed = df_cleaned_processed.drop_duplicates(subset=composite_key_cols, keep='first')\n",
    "\n",
    "    # Clean df_lm\n",
    "    df_lm_processed = df_lm_raw.copy()\n",
    "    df_lm_processed.dropna(subset=['review_content', target_column], inplace=True)\n",
    "    df_lm_processed[target_column] = df_lm_processed[target_column].astype(int)\n",
    "    df_lm_processed = df_lm_processed.drop_duplicates(subset=composite_key_cols, keep='first')\n",
    "\n",
    "    # Merge to Align based on Composite Key\n",
    "    cols_to_merge_cleaned = list(set(composite_key_cols + cb_xgb_only_feature_cols + target_col_list + ['game_name']))\n",
    "    cols_to_merge_lm = list(set(composite_key_cols + bert_only_feature_cols))\n",
    "    df_cleaned_to_merge = df_cleaned_processed[cols_to_merge_cleaned].rename(columns={'review_content': 'review_content_cleaned'})\n",
    "    df_lm_to_merge = df_lm_processed[cols_to_merge_lm].rename(columns={'review_content': 'review_content_lm'})\n",
    "    df_aligned = pd.merge(df_cleaned_to_merge, df_lm_to_merge, on=composite_key_cols, how='inner')\n",
    "\n",
    "    if len(df_aligned) == 0: raise ValueError(\"数据对齐后没有剩余样本。\")\n",
    "    df_aligned = df_aligned.reset_index(drop=True)\n",
    "    df_aligned['review_id'] = df_aligned.index\n",
    "    df_aligned = df_aligned.set_index('review_id', drop=False)\n",
    "    print(f\"数据对齐完成。最终样本数: {len(df_aligned)}\")\n",
    "\n",
    "    y = df_aligned[target_column]\n",
    "    n_classes = y.nunique()\n",
    "\n",
    "    # --- !!! Calculate scale_pos_weight !!! ---\n",
    "    neg_count = (y == 0).sum()\n",
    "    pos_count = (y == 1).sum()\n",
    "    if pos_count > 0: # Avoid division by zero\n",
    "        scale_pos_weight_value = neg_count / pos_count\n",
    "        print(f\"计算得到的 scale_pos_weight: {scale_pos_weight_value:.4f} (负样本数: {neg_count}, 正样本数: {pos_count})\")\n",
    "        # Add to model params\n",
    "        cb_params['scale_pos_weight'] = scale_pos_weight_value\n",
    "        xgb_params['scale_pos_weight'] = scale_pos_weight_value\n",
    "    else:\n",
    "        print(\"警告: 正样本数为 0，无法计算 scale_pos_weight。\")\n",
    "\n",
    "\n",
    "except FileNotFoundError as e: print(f\"错误: 文件未找到 - {e}\"); exit()\n",
    "except KeyError as e: print(f\"错误: 缺少必要的列 - {e}.\"); exit()\n",
    "except Exception as e: print(f\"加载或预处理数据时发生错误: {e}\"); exit()"
   ]
  },
  {
   "cell_type": "code",
   "execution_count": 4,
   "id": "632530f7",
   "metadata": {},
   "outputs": [
    {
     "name": "stdout",
     "output_type": "stream",
     "text": [
      "初始划分: 训练集 31988 样本 (IDs), 测试集 7997 样本 (IDs)\n"
     ]
    }
   ],
   "source": [
    "# --- 2. Initial Train/Test Split ---\n",
    "train_ids, test_ids, y_train_orig, y_test_final = train_test_split(\n",
    "    df_aligned['review_id'].values, y.values, test_size=test_size,\n",
    "    random_state=random_state, stratify=y\n",
    ")\n",
    "print(f\"初始划分: 训练集 {len(train_ids)} 样本 (IDs), 测试集 {len(test_ids)} 样本 (IDs)\")"
   ]
  },
  {
   "cell_type": "code",
   "execution_count": 5,
   "id": "ce954ee6",
   "metadata": {},
   "outputs": [],
   "source": [
    "# --- 3. Define Base Model Training/Prediction Functions ---\n",
    "\n",
    "# == XGBoost Preprocessor ==\n",
    "xgb_text_col = 'review_content_cleaned'\n",
    "xgb_cat_cols = ['game_name']\n",
    "xgb_num_cols = ['likes']\n",
    "xgb_input_cols = [xgb_text_col] + xgb_cat_cols + xgb_num_cols\n",
    "\n",
    "xgb_text_transformer = Pipeline(steps=[('tfidf', TfidfVectorizer(max_features=5000, stop_words=None))])\n",
    "xgb_cat_transformer = Pipeline(steps=[('onehot', OneHotEncoder(handle_unknown='ignore', sparse_output=True))])\n",
    "xgb_num_transformer = Pipeline(steps=[('imputer', SimpleImputer(strategy='median')), ('scaler', StandardScaler())])\n",
    "\n",
    "xgb_preprocessor = ColumnTransformer(\n",
    "    transformers=[\n",
    "        ('text', xgb_text_transformer, xgb_text_col),\n",
    "        ('cat', xgb_cat_transformer, xgb_cat_cols),\n",
    "        ('num', xgb_num_transformer, xgb_num_cols)\n",
    "    ],\n",
    "    remainder='passthrough',\n",
    "    sparse_threshold=0.3\n",
    ")\n",
    "\n",
    "# == BERT Dataset ==\n",
    "class SentimentDataset(Dataset):\n",
    "    # (Dataset class remains the same)\n",
    "    def __init__(self, texts, labels, tokenizer, max_len=256):\n",
    "        self.texts = texts; self.labels = labels; self.tokenizer = tokenizer; self.max_len = max_len\n",
    "    def __len__(self): return len(self.labels)\n",
    "    def __getitem__(self, idx):\n",
    "        text = str(self.texts[idx]); label = self.labels[idx]\n",
    "        encoding = self.tokenizer.encode_plus(\n",
    "            text, add_special_tokens=True, max_length=self.max_len,\n",
    "            return_token_type_ids=False, padding='max_length',\n",
    "            truncation=True, return_attention_mask=True, return_tensors='pt',\n",
    "        )\n",
    "        return {'input_ids': encoding['input_ids'].flatten(), 'attention_mask': encoding['attention_mask'].flatten(), 'labels': torch.tensor(label, dtype=torch.long)}\n",
    "bert_tokenizer = BertTokenizer.from_pretrained(bert_model_name)"
   ]
  },
  {
   "cell_type": "code",
   "execution_count": 6,
   "id": "9ee51b43",
   "metadata": {},
   "outputs": [
    {
     "name": "stdout",
     "output_type": "stream",
     "text": [
      "\n",
      "开始 5-折交叉验证生成 OOF 预测 (已应用类别平衡)...\n",
      "--- Fold 1/5 ---\n",
      "  训练 CatBoost...\n",
      "  CatBoost 训练完成。\n",
      "  训练 XGBoost...\n"
     ]
    },
    {
     "name": "stderr",
     "output_type": "stream",
     "text": [
      "c:\\Users\\wjw20\\miniconda3\\envs\\IS6941\\Lib\\site-packages\\xgboost\\callback.py:386: UserWarning: [22:32:15] WARNING: C:\\actions-runner\\_work\\xgboost\\xgboost\\src\\learner.cc:738: \n",
      "Parameters: { \"use_label_encoder\" } are not used.\n",
      "\n",
      "  self.starting_round = model.num_boosted_rounds()\n",
      "c:\\Users\\wjw20\\miniconda3\\envs\\IS6941\\Lib\\site-packages\\xgboost\\core.py:729: UserWarning: [22:32:31] WARNING: C:\\actions-runner\\_work\\xgboost\\xgboost\\src\\common\\error_msg.cc:58: Falling back to prediction using DMatrix due to mismatched devices. This might lead to higher memory usage and slower performance. XGBoost is running on: cuda:0, while the input data is on: cpu.\n",
      "Potential solutions:\n",
      "- Use a data structure that matches the device ordinal in the booster.\n",
      "- Set the device for booster before call to inplace_predict.\n",
      "\n",
      "This warning will only be shown once.\n",
      "\n",
      "  return func(**kwargs)\n"
     ]
    },
    {
     "name": "stdout",
     "output_type": "stream",
     "text": [
      "  XGBoost 训练完成。\n",
      "  训练 BERT...\n"
     ]
    },
    {
     "data": {
      "text/html": [
       "\n",
       "    <div>\n",
       "      \n",
       "      <progress value='2400' max='2400' style='width:300px; height:20px; vertical-align: middle;'></progress>\n",
       "      [2400/2400 06:31, Epoch 3/3]\n",
       "    </div>\n",
       "    <table border=\"1\" class=\"dataframe\">\n",
       "  <thead>\n",
       " <tr style=\"text-align: left;\">\n",
       "      <th>Step</th>\n",
       "      <th>Training Loss</th>\n",
       "    </tr>\n",
       "  </thead>\n",
       "  <tbody>\n",
       "  </tbody>\n",
       "</table><p>"
      ],
      "text/plain": [
       "<IPython.core.display.HTML object>"
      ]
     },
     "metadata": {},
     "output_type": "display_data"
    },
    {
     "data": {
      "text/html": [],
      "text/plain": [
       "<IPython.core.display.HTML object>"
      ]
     },
     "metadata": {},
     "output_type": "display_data"
    },
    {
     "name": "stdout",
     "output_type": "stream",
     "text": [
      "  BERT 训练完成。\n",
      "--- Fold 1 完成, 耗时: 440.57 秒 ---\n",
      "--- Fold 2/5 ---\n",
      "  训练 CatBoost...\n",
      "  CatBoost 训练完成。\n",
      "  训练 XGBoost...\n"
     ]
    },
    {
     "name": "stderr",
     "output_type": "stream",
     "text": [
      "c:\\Users\\wjw20\\miniconda3\\envs\\IS6941\\Lib\\site-packages\\xgboost\\callback.py:386: UserWarning: [22:39:40] WARNING: C:\\actions-runner\\_work\\xgboost\\xgboost\\src\\learner.cc:738: \n",
      "Parameters: { \"use_label_encoder\" } are not used.\n",
      "\n",
      "  self.starting_round = model.num_boosted_rounds()\n"
     ]
    },
    {
     "name": "stdout",
     "output_type": "stream",
     "text": [
      "  XGBoost 训练完成。\n",
      "  训练 BERT...\n"
     ]
    },
    {
     "data": {
      "text/html": [
       "\n",
       "    <div>\n",
       "      \n",
       "      <progress value='2400' max='2400' style='width:300px; height:20px; vertical-align: middle;'></progress>\n",
       "      [2400/2400 06:15, Epoch 3/3]\n",
       "    </div>\n",
       "    <table border=\"1\" class=\"dataframe\">\n",
       "  <thead>\n",
       " <tr style=\"text-align: left;\">\n",
       "      <th>Step</th>\n",
       "      <th>Training Loss</th>\n",
       "    </tr>\n",
       "  </thead>\n",
       "  <tbody>\n",
       "  </tbody>\n",
       "</table><p>"
      ],
      "text/plain": [
       "<IPython.core.display.HTML object>"
      ]
     },
     "metadata": {},
     "output_type": "display_data"
    },
    {
     "data": {
      "text/html": [],
      "text/plain": [
       "<IPython.core.display.HTML object>"
      ]
     },
     "metadata": {},
     "output_type": "display_data"
    },
    {
     "name": "stdout",
     "output_type": "stream",
     "text": [
      "  BERT 训练完成。\n",
      "--- Fold 2 完成, 耗时: 429.02 秒 ---\n",
      "--- Fold 3/5 ---\n",
      "  训练 CatBoost...\n"
     ]
    },
    {
     "name": "stderr",
     "output_type": "stream",
     "text": [
      "Warning: less than 75% gpu memory available for training. Free: 9209 Total: 12281.5\n"
     ]
    },
    {
     "name": "stdout",
     "output_type": "stream",
     "text": [
      "  CatBoost 训练完成。\n",
      "  训练 XGBoost...\n"
     ]
    },
    {
     "name": "stderr",
     "output_type": "stream",
     "text": [
      "c:\\Users\\wjw20\\miniconda3\\envs\\IS6941\\Lib\\site-packages\\xgboost\\callback.py:386: UserWarning: [22:46:41] WARNING: C:\\actions-runner\\_work\\xgboost\\xgboost\\src\\learner.cc:738: \n",
      "Parameters: { \"use_label_encoder\" } are not used.\n",
      "\n",
      "  self.starting_round = model.num_boosted_rounds()\n"
     ]
    },
    {
     "name": "stdout",
     "output_type": "stream",
     "text": [
      "  XGBoost 训练完成。\n",
      "  训练 BERT...\n"
     ]
    },
    {
     "data": {
      "text/html": [
       "\n",
       "    <div>\n",
       "      \n",
       "      <progress value='2400' max='2400' style='width:300px; height:20px; vertical-align: middle;'></progress>\n",
       "      [2400/2400 06:21, Epoch 3/3]\n",
       "    </div>\n",
       "    <table border=\"1\" class=\"dataframe\">\n",
       "  <thead>\n",
       " <tr style=\"text-align: left;\">\n",
       "      <th>Step</th>\n",
       "      <th>Training Loss</th>\n",
       "    </tr>\n",
       "  </thead>\n",
       "  <tbody>\n",
       "  </tbody>\n",
       "</table><p>"
      ],
      "text/plain": [
       "<IPython.core.display.HTML object>"
      ]
     },
     "metadata": {},
     "output_type": "display_data"
    },
    {
     "data": {
      "text/html": [],
      "text/plain": [
       "<IPython.core.display.HTML object>"
      ]
     },
     "metadata": {},
     "output_type": "display_data"
    },
    {
     "name": "stdout",
     "output_type": "stream",
     "text": [
      "  BERT 训练完成。\n",
      "--- Fold 3 完成, 耗时: 424.85 秒 ---\n",
      "--- Fold 4/5 ---\n",
      "  训练 CatBoost...\n"
     ]
    },
    {
     "name": "stderr",
     "output_type": "stream",
     "text": [
      "Warning: less than 75% gpu memory available for training. Free: 8729 Total: 12281.5\n"
     ]
    },
    {
     "name": "stdout",
     "output_type": "stream",
     "text": [
      "  CatBoost 训练完成。\n",
      "  训练 XGBoost...\n"
     ]
    },
    {
     "name": "stderr",
     "output_type": "stream",
     "text": [
      "c:\\Users\\wjw20\\miniconda3\\envs\\IS6941\\Lib\\site-packages\\xgboost\\callback.py:386: UserWarning: [22:53:42] WARNING: C:\\actions-runner\\_work\\xgboost\\xgboost\\src\\learner.cc:738: \n",
      "Parameters: { \"use_label_encoder\" } are not used.\n",
      "\n",
      "  self.starting_round = model.num_boosted_rounds()\n"
     ]
    },
    {
     "name": "stdout",
     "output_type": "stream",
     "text": [
      "  XGBoost 训练完成。\n",
      "  训练 BERT...\n"
     ]
    },
    {
     "data": {
      "text/html": [
       "\n",
       "    <div>\n",
       "      \n",
       "      <progress value='2400' max='2400' style='width:300px; height:20px; vertical-align: middle;'></progress>\n",
       "      [2400/2400 06:13, Epoch 3/3]\n",
       "    </div>\n",
       "    <table border=\"1\" class=\"dataframe\">\n",
       "  <thead>\n",
       " <tr style=\"text-align: left;\">\n",
       "      <th>Step</th>\n",
       "      <th>Training Loss</th>\n",
       "    </tr>\n",
       "  </thead>\n",
       "  <tbody>\n",
       "  </tbody>\n",
       "</table><p>"
      ],
      "text/plain": [
       "<IPython.core.display.HTML object>"
      ]
     },
     "metadata": {},
     "output_type": "display_data"
    },
    {
     "data": {
      "text/html": [],
      "text/plain": [
       "<IPython.core.display.HTML object>"
      ]
     },
     "metadata": {},
     "output_type": "display_data"
    },
    {
     "name": "stdout",
     "output_type": "stream",
     "text": [
      "  BERT 训练完成。\n",
      "--- Fold 4 完成, 耗时: 413.76 秒 ---\n",
      "--- Fold 5/5 ---\n",
      "  训练 CatBoost...\n"
     ]
    },
    {
     "name": "stderr",
     "output_type": "stream",
     "text": [
      "Warning: less than 75% gpu memory available for training. Free: 8325 Total: 12281.5\n"
     ]
    },
    {
     "name": "stdout",
     "output_type": "stream",
     "text": [
      "  CatBoost 训练完成。\n",
      "  训练 XGBoost...\n"
     ]
    },
    {
     "name": "stderr",
     "output_type": "stream",
     "text": [
      "c:\\Users\\wjw20\\miniconda3\\envs\\IS6941\\Lib\\site-packages\\xgboost\\callback.py:386: UserWarning: [23:00:39] WARNING: C:\\actions-runner\\_work\\xgboost\\xgboost\\src\\learner.cc:738: \n",
      "Parameters: { \"use_label_encoder\" } are not used.\n",
      "\n",
      "  self.starting_round = model.num_boosted_rounds()\n"
     ]
    },
    {
     "name": "stdout",
     "output_type": "stream",
     "text": [
      "  XGBoost 训练完成。\n",
      "  训练 BERT...\n"
     ]
    },
    {
     "data": {
      "text/html": [
       "\n",
       "    <div>\n",
       "      \n",
       "      <progress value='2400' max='2400' style='width:300px; height:20px; vertical-align: middle;'></progress>\n",
       "      [2400/2400 06:12, Epoch 3/3]\n",
       "    </div>\n",
       "    <table border=\"1\" class=\"dataframe\">\n",
       "  <thead>\n",
       " <tr style=\"text-align: left;\">\n",
       "      <th>Step</th>\n",
       "      <th>Training Loss</th>\n",
       "    </tr>\n",
       "  </thead>\n",
       "  <tbody>\n",
       "  </tbody>\n",
       "</table><p>"
      ],
      "text/plain": [
       "<IPython.core.display.HTML object>"
      ]
     },
     "metadata": {},
     "output_type": "display_data"
    },
    {
     "data": {
      "text/html": [],
      "text/plain": [
       "<IPython.core.display.HTML object>"
      ]
     },
     "metadata": {},
     "output_type": "display_data"
    },
    {
     "name": "stdout",
     "output_type": "stream",
     "text": [
      "  BERT 训练完成。\n",
      "--- Fold 5 完成, 耗时: 435.49 秒 ---\n",
      "\n",
      "OOF 预测生成完毕。\n",
      "\n",
      "使用 K-Fold 模型平均生成测试集预测...\n",
      "测试集预测生成完毕。\n"
     ]
    }
   ],
   "source": [
    "# --- 4. Generate OOF and Test Predictions ---\n",
    "kf = StratifiedKFold(n_splits=n_splits, shuffle=True, random_state=random_state)\n",
    "\n",
    "oof_preds_catboost = np.zeros((len(train_ids), n_classes))\n",
    "oof_preds_xgb = np.zeros((len(train_ids), n_classes))\n",
    "oof_preds_bert = np.zeros((len(train_ids), n_classes))\n",
    "\n",
    "test_preds_catboost = np.zeros((len(test_ids), n_classes))\n",
    "test_preds_xgb = np.zeros((len(test_ids), n_classes))\n",
    "test_preds_bert = np.zeros((len(test_ids), n_classes))\n",
    "\n",
    "# Store final fitted models\n",
    "final_models_catboost = []\n",
    "final_models_xgb_pipe = []\n",
    "final_models_bert = []\n",
    "\n",
    "\n",
    "print(f\"\\n开始 {n_splits}-折交叉验证生成 OOF 预测 (已应用类别平衡)...\")\n",
    "\n",
    "for fold, (train_fold_local_idx, val_fold_local_idx) in enumerate(kf.split(np.zeros(len(train_ids)), y_train_orig)):\n",
    "    print(f\"--- Fold {fold+1}/{n_splits} ---\")\n",
    "    fold_start_time = time.time()\n",
    "\n",
    "    # --- Get data for this fold ---\n",
    "    train_fold_ids = train_ids[train_fold_local_idx]\n",
    "    val_fold_ids = train_ids[val_fold_local_idx]\n",
    "    X_train_fold_aligned = df_aligned.loc[train_fold_ids]\n",
    "    y_train_fold = y.loc[train_fold_ids]\n",
    "    X_val_fold_aligned = df_aligned.loc[val_fold_ids]\n",
    "    y_val_fold = y.loc[val_fold_ids]\n",
    "\n",
    "    # --- Train CatBoost ---\n",
    "    print(f\"  训练 CatBoost...\")\n",
    "    # Define feature indices for CatBoost Pool\n",
    "    cb_feature_names = ['review_content_cleaned', 'game_name', 'likes']\n",
    "    cat_features_indices = [i for i, col in enumerate(cb_feature_names) if col == 'game_name']\n",
    "    text_features_indices = [i for i, col in enumerate(cb_feature_names) if col == 'review_content_cleaned']\n",
    "\n",
    "    # Use Pool objects\n",
    "    train_pool = Pool(data=X_train_fold_aligned[cb_feature_names], label=y_train_fold,\n",
    "                      cat_features=cat_features_indices,\n",
    "                      text_features=text_features_indices)\n",
    "    val_pool = Pool(data=X_val_fold_aligned[cb_feature_names], label=y_val_fold,\n",
    "                    cat_features=cat_features_indices,\n",
    "                    text_features=text_features_indices)\n",
    "\n",
    "    # Initialize model with params (including scale_pos_weight if calculated)\n",
    "    cb_model = CatBoostClassifier(**cb_params)\n",
    "    cb_model.fit(train_pool, eval_set=val_pool, verbose=0) # Use early stopping from params\n",
    "    oof_preds_catboost[val_fold_local_idx] = cb_model.predict_proba(val_pool)\n",
    "    final_models_catboost.append(cb_model)\n",
    "    print(f\"  CatBoost 训练完成。\")\n",
    "\n",
    "\n",
    "    # --- Train XGBoost ---\n",
    "    print(f\"  训练 XGBoost...\")\n",
    "    # Initialize pipeline with params (including scale_pos_weight if calculated)\n",
    "    xgb_pipe_fold = Pipeline(steps=[('preprocessor', xgb_preprocessor),\n",
    "                                    ('classifier', xgb.XGBClassifier(**xgb_params))])\n",
    "    # Fit preprocessor\n",
    "    xgb_preprocessor_fitted = xgb_pipe_fold.named_steps['preprocessor'].fit(X_train_fold_aligned[xgb_input_cols])\n",
    "    # Transform data\n",
    "    X_train_processed = xgb_preprocessor_fitted.transform(X_train_fold_aligned[xgb_input_cols])\n",
    "    X_val_processed = xgb_preprocessor_fitted.transform(X_val_fold_aligned[xgb_input_cols])\n",
    "    # Fit classifier with early stopping\n",
    "    xgb_pipe_fold.named_steps['classifier'].fit(X_train_processed, y_train_fold,\n",
    "                                                eval_set=[(X_val_processed, y_val_fold)],\n",
    "                                                verbose=False)\n",
    "    # Predict OOF using the pipeline\n",
    "    oof_preds_xgb[val_fold_local_idx] = xgb_pipe_fold.predict_proba(X_val_fold_aligned[xgb_input_cols])\n",
    "    final_models_xgb_pipe.append(xgb_pipe_fold)\n",
    "    print(f\"  XGBoost 训练完成。\")\n",
    "\n",
    "\n",
    "    # --- Train BERT ---\n",
    "    print(f\"  训练 BERT...\")\n",
    "    bert_model = BertForSequenceClassification.from_pretrained(bert_model_name, num_labels=n_classes)\n",
    "    bert_model.to(device)\n",
    "    X_train_fold_lm_texts = X_train_fold_aligned['review_content_lm'].tolist()\n",
    "    y_train_fold_list = y_train_fold.tolist()\n",
    "    X_val_fold_lm_texts = X_val_fold_aligned['review_content_lm'].tolist()\n",
    "    y_val_fold_list = y_val_fold.tolist()\n",
    "\n",
    "    train_fold_dataset = SentimentDataset(X_train_fold_lm_texts, y_train_fold_list, bert_tokenizer)\n",
    "    # No need for eval dataset here since evaluation_strategy=\"no\"\n",
    "    trainer = Trainer(model=bert_model, args=bert_train_args, train_dataset=train_fold_dataset)\n",
    "    trainer.train()\n",
    "\n",
    "    # Predict on validation fold\n",
    "    val_fold_dataset = SentimentDataset(X_val_fold_lm_texts, y_val_fold_list, bert_tokenizer)\n",
    "    val_predictions = trainer.predict(val_fold_dataset)\n",
    "    oof_preds_bert[val_fold_local_idx] = torch.softmax(torch.tensor(val_predictions.predictions), dim=-1).cpu().numpy()\n",
    "    final_models_bert.append(trainer.model) # Store the trained model\n",
    "    print(f\"  BERT 训练完成。\")\n",
    "\n",
    "    fold_end_time = time.time()\n",
    "    print(f\"--- Fold {fold+1} 完成, 耗时: {fold_end_time - fold_start_time:.2f} 秒 ---\")\n",
    "    if torch.cuda.is_available(): torch.cuda.empty_cache()\n",
    "\n",
    "\n",
    "print(f\"\\nOOF 预测生成完毕。\")\n",
    "\n",
    "# --- Generate Test Predictions using final models ---\n",
    "print(\"\\n使用 K-Fold 模型平均生成测试集预测...\")\n",
    "X_test_aligned = df_aligned.loc[test_ids]\n",
    "y_test_final = y.loc[test_ids]\n",
    "\n",
    "# Average CatBoost predictions\n",
    "cb_features_test = X_test_aligned[['review_content_cleaned', 'game_name', 'likes']]\n",
    "test_pool_final = Pool(data=cb_features_test, cat_features=cat_features_indices, text_features=text_features_indices)\n",
    "test_preds_catboost_all_folds = np.array([model.predict_proba(test_pool_final) for model in final_models_catboost])\n",
    "test_preds_catboost = np.mean(test_preds_catboost_all_folds, axis=0)\n",
    "\n",
    "# Average XGBoost predictions\n",
    "test_preds_xgb_all_folds = np.array([pipe.predict_proba(X_test_aligned[xgb_input_cols]) for pipe in final_models_xgb_pipe])\n",
    "test_preds_xgb = np.mean(test_preds_xgb_all_folds, axis=0)\n",
    "\n",
    "# Average BERT predictions\n",
    "X_test_lm_texts = X_test_aligned['review_content_lm'].tolist()\n",
    "test_dataset_final = SentimentDataset(X_test_lm_texts, y_test_final.tolist(), bert_tokenizer)\n",
    "test_preds_bert_all_folds = []\n",
    "dummy_args = TrainingArguments(output_dir=os.path.join(output_dir, 'bert_dummy'), report_to=\"none\", per_device_eval_batch_size=64, fp16=bert_train_args.fp16)\n",
    "for model in final_models_bert:\n",
    "    model.eval()\n",
    "    model.to(device)\n",
    "    dummy_trainer = Trainer(model=model, args=dummy_args)\n",
    "    with torch.no_grad():\n",
    "        predictions = dummy_trainer.predict(test_dataset_final)\n",
    "    probs = torch.softmax(torch.tensor(predictions.predictions), dim=-1).cpu().numpy()\n",
    "    test_preds_bert_all_folds.append(probs)\n",
    "test_preds_bert = np.mean(np.array(test_preds_bert_all_folds), axis=0)\n",
    "\n",
    "print(\"测试集预测生成完毕。\")"
   ]
  },
  {
   "cell_type": "code",
   "execution_count": 7,
   "id": "21f1bc16",
   "metadata": {},
   "outputs": [
    {
     "name": "stdout",
     "output_type": "stream",
     "text": [
      "\n",
      "准备 Meta-Model 输入...\n",
      "Meta Train 特征维度: (31988, 6)\n",
      "Meta Test 特征维度: (7997, 6)\n"
     ]
    }
   ],
   "source": [
    "# --- 5. Prepare Meta-Model Input ---\n",
    "print(\"\\n准备 Meta-Model 输入...\")\n",
    "X_meta_train = np.concatenate([oof_preds_catboost, oof_preds_xgb, oof_preds_bert], axis=1)\n",
    "X_meta_test = np.concatenate([test_preds_catboost, test_preds_xgb, test_preds_bert], axis=1)\n",
    "print(f\"Meta Train 特征维度: {X_meta_train.shape}\")\n",
    "print(f\"Meta Test 特征维度: {X_meta_test.shape}\")"
   ]
  },
  {
   "cell_type": "code",
   "execution_count": 33,
   "id": "f8d36e05",
   "metadata": {},
   "outputs": [
    {
     "name": "stdout",
     "output_type": "stream",
     "text": [
      "\n",
      "训练 Meta-Model (Logistic Regression with GridSearchCV for C)...\n",
      "Fitting 5 folds for each of 5 candidates, totalling 25 fits\n",
      "Meta-Model 最佳参数 (C): {'C': 1}\n",
      "Meta-Model 最佳 CV 分数: 0.8621\n",
      "Meta-Model 训练完成。\n"
     ]
    }
   ],
   "source": [
    "import lightgbm as lgb\n",
    "from sklearn.model_selection import GridSearchCV, RandomizedSearchCV, StratifiedKFold\n",
    "from scipy.stats import randint, uniform # For defining parameter distributions\n",
    "\n",
    "# --- 替换步骤 6 ---\n",
    "print(\"\\n训练 Meta-Model (Logistic Regression with GridSearchCV for C)...\")\n",
    "# 定义参数网格\n",
    "param_grid = {'C': [0.01, 0.1, 1, 10, 100]}\n",
    "# 使用 StratifiedKFold 进行内部交叉验证以选择 C\n",
    "inner_cv = StratifiedKFold(n_splits=5, shuffle=True, random_state=random_state)\n",
    "# 初始化 Logistic Regression\n",
    "lr_meta = LogisticRegression(random_state=random_state, max_iter=2000, solver='liblinear') # solver='liblinear' 对 L1/L2 都适用\n",
    "\n",
    "# 设置 GridSearchCV\n",
    "meta_model_search = GridSearchCV(estimator=lr_meta,\n",
    "                                 param_grid=param_grid,\n",
    "                                 cv=inner_cv,\n",
    "                                 scoring='accuracy', # 或 'f1_weighted' 等\n",
    "                                 refit=True, # 用最佳参数在整个 X_meta_train 上重新训练\n",
    "                                 verbose=1) # 显示搜索过程\n",
    "\n",
    "# 在 OOF 预测和原始训练标签上进行搜索和训练\n",
    "meta_model_search.fit(X_meta_train, y_train_orig)\n",
    "\n",
    "print(f\"Meta-Model 最佳参数 (C): {meta_model_search.best_params_}\")\n",
    "print(f\"Meta-Model 最佳 CV 分数: {meta_model_search.best_score_:.4f}\")\n",
    "# 最优模型存储在 meta_model_search.best_estimator_\n",
    "meta_model = meta_model_search.best_estimator_ # 使用找到的最佳模型\n",
    "print(\"Meta-Model 训练完成。\")"
   ]
  },
  {
   "cell_type": "code",
   "execution_count": 34,
   "id": "3677eb39",
   "metadata": {},
   "outputs": [
    {
     "name": "stdout",
     "output_type": "stream",
     "text": [
      "\n",
      "使用 Meta-Model 在测试集上进行最终预测...\n"
     ]
    }
   ],
   "source": [
    "# --- 7. Final Prediction with Meta-Model ---\n",
    "print(\"\\n使用 Meta-Model 在测试集上进行最终预测...\")\n",
    "final_predictions = meta_model.predict(X_meta_test)\n",
    "final_probabilities = meta_model.predict_proba(X_meta_test)"
   ]
  },
  {
   "cell_type": "code",
   "execution_count": 35,
   "id": "a6ff3c7a",
   "metadata": {},
   "outputs": [
    {
     "name": "stdout",
     "output_type": "stream",
     "text": [
      "\n",
      "--- Stacking 集成模型最终评估 (已应用类别平衡) ---\n",
      "分类报告:\n",
      "              precision    recall  f1-score   support\n",
      "\n",
      "           0       0.82      0.74      0.78      2726\n",
      "           1       0.87      0.91      0.89      5271\n",
      "\n",
      "    accuracy                           0.86      7997\n",
      "   macro avg       0.85      0.83      0.84      7997\n",
      "weighted avg       0.85      0.86      0.85      7997\n",
      "\n",
      "\n",
      "最终准确率: 0.8559\n",
      "\n",
      "混淆矩阵:\n",
      "[[2028  698]\n",
      " [ 454 4817]]\n"
     ]
    },
    {
     "data": {
      "image/png": "[encoded data removed]",
      "text/plain": [
       "<Figure size 800x600 with 2 Axes>"
      ]
     },
     "metadata": {},
     "output_type": "display_data"
    },
    {
     "name": "stdout",
     "output_type": "stream",
     "text": [
      "\n",
      "Stacking 脚本执行完毕。\n"
     ]
    }
   ],
   "source": [
    "# --- 8. Evaluate Final Stacked Model ---\n",
    "print(\"\\n--- Stacking 集成模型最终评估 (已应用类别平衡) ---\")\n",
    "# (Evaluation code remains the same)\n",
    "print(\"分类报告:\")\n",
    "try:\n",
    "    target_names = [str(c) for c in sorted(np.unique(y_test_final))]\n",
    "    print(classification_report(y_test_final, final_predictions, target_names=target_names))\n",
    "except Exception as e:\n",
    "    print(f\"生成分类报告时出错: {e}\")\n",
    "    print(classification_report(y_test_final, final_predictions))\n",
    "accuracy = accuracy_score(y_test_final, final_predictions)\n",
    "print(f\"\\n最终准确率: {accuracy:.4f}\")\n",
    "print(\"\\n混淆矩阵:\")\n",
    "cm = confusion_matrix(y_test_final, final_predictions)\n",
    "print(cm)\n",
    "try:\n",
    "    plt.figure(figsize=(8, 6))\n",
    "    sns.heatmap(cm, annot=True, fmt='d', cmap='Blues', xticklabels=target_names, yticklabels=target_names)\n",
    "    plt.xlabel('Predicted Label')\n",
    "    plt.ylabel('True Label')\n",
    "    plt.title('Stacking Ensemble Model Confusion Matrix (Balanced)')\n",
    "    plt.show()\n",
    "except NameError: print(\"\\n无法绘制混淆矩阵，可能缺少 target_names。\")\n",
    "except Exception as e: print(f\"\\n绘制混淆矩阵时出错: {e}\")\n",
    "\n",
    "print(\"\\nStacking 脚本执行完毕。\")\n",
    "\n",
    "# Optional: Clean up BERT temp directories\n",
    "# import shutil\n",
    "# shutil.rmtree(os.path.join(output_dir, 'bert_temp'), ignore_errors=True)\n",
    "# shutil.rmtree(os.path.join(output_dir, 'bert_dummy'), ignore_errors=True)"
   ]
  }
 ],
 "metadata": {
  "kernelspec": {
   "display_name": "IS6941",
   "language": "python",
   "name": "python3"
  },
  "language_info": {
   "codemirror_mode": {
    "name": "ipython",
    "version": 3
   },
   "file_extension": ".py",
   "mimetype": "text/x-python",
   "name": "python",
   "nbconvert_exporter": "python",
   "pygments_lexer": "ipython3",
   "version": "3.11.11"
  }
 },
 "nbformat": 4,
 "nbformat_minor": 5
}
