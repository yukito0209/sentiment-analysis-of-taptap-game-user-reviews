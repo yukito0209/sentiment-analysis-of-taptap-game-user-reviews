{
 "cells": [
  {
   "cell_type": "markdown",
   "id": "5a677a62",
   "metadata": {},
   "source": [
    "#### 这个Notebook中的代码用于合并40个游戏评论数据集，并添加 **游戏名称** 列标签"
   ]
  },
  {
   "cell_type": "code",
   "execution_count": null,
   "id": "fa2597fd",
   "metadata": {},
   "outputs": [],
   "source": [
    "import pandas as pd\n",
    "from pathlib import Path"
   ]
  },
  {
   "cell_type": "code",
   "execution_count": 2,
   "id": "c22d3a44",
   "metadata": {},
   "outputs": [],
   "source": [
    "data_dir = Path(r\"D:\\GitHubRepos\\is6941-ml-social-media\\taptap\\data\\games\")\n",
    "output_file = data_dir / \"taptap_reviews.csv\""
   ]
  },
  {
   "cell_type": "code",
   "execution_count": 3,
   "id": "7611b60e",
   "metadata": {},
   "outputs": [],
   "source": [
    "def process_file(file_path):\n",
    "    \"\"\"处理单个CSV文件，添加游戏名称列\"\"\"\n",
    "    # 读取CSV（自动处理编码）\n",
    "    df = pd.read_csv(file_path, engine='python')\n",
    "    \n",
    "    # 提取游戏名称（安全处理多扩展名情况）\n",
    "    game_name = Path(file_path).stem  # 自动去除\".csv\"\n",
    "    \n",
    "    # 添加新列到最右侧\n",
    "    return df.assign(游戏名称=game_name)"
   ]
  },
  {
   "cell_type": "code",
   "execution_count": 4,
   "id": "d5468a94",
   "metadata": {},
   "outputs": [],
   "source": [
    "# 获取所有CSV文件路径（按文件名排序）\n",
    "all_csv = sorted(data_dir.glob(\"*.csv\"))\n",
    "\n",
    "# 并行处理文件（提升大文件处理速度）\n",
    "dfs = [process_file(f) for f in all_csv]"
   ]
  },
  {
   "cell_type": "code",
   "execution_count": 5,
   "id": "a1230568",
   "metadata": {},
   "outputs": [],
   "source": [
    "# 内存优化合并\n",
    "combined_df = pd.concat(dfs, axis=0, ignore_index=True, copy=False)\n",
    "\n",
    "# 保存合并结果（包含数据验证）\n",
    "(\n",
    "    combined_df\n",
    "    .drop_duplicates()  # 去除完全重复的行\n",
    "    .to_csv(output_file, index=False, encoding='utf_8_sig')  # 支持中文Excel\n",
    ")"
   ]
  },
  {
   "cell_type": "code",
   "execution_count": 7,
   "id": "9848a6b0",
   "metadata": {},
   "outputs": [
    {
     "name": "stdout",
     "output_type": "stream",
     "text": [
      "合并完成！总记录数：40,000\n",
      "首行示例：\n"
     ]
    },
    {
     "data": {
      "application/vnd.microsoft.datawrangler.viewer.v0+json": {
       "columns": [
        {
         "name": "index",
         "rawType": "int64",
         "type": "integer"
        },
        {
         "name": "用户ID",
         "rawType": "int64",
         "type": "integer"
        },
        {
         "name": "用户名",
         "rawType": "object",
         "type": "string"
        },
        {
         "name": "评分",
         "rawType": "int64",
         "type": "integer"
        },
        {
         "name": "评论内容",
         "rawType": "object",
         "type": "string"
        },
        {
         "name": "点赞数",
         "rawType": "float64",
         "type": "float"
        },
        {
         "name": "发布时间",
         "rawType": "object",
         "type": "string"
        },
        {
         "name": "设备型号",
         "rawType": "object",
         "type": "string"
        },
        {
         "name": "游戏名称",
         "rawType": "object",
         "type": "string"
        }
       ],
       "conversionMethod": "pd.DataFrame",
       "ref": "b56dd6f7-8246-4468-9f33-83836ea6c612",
       "rows": [
        [
         "0",
         "696432312",
         "。。。",
         "5",
         "可以体验一下，剧情不错，但可能会有点迷",
         null,
         "2025-04-05 20:13",
         "OPPO K7x中国版",
         "7_years_from_now"
        ],
        [
         "1",
         "679295528",
         "云淡风轻",
         "5",
         "剧情很好",
         null,
         "2025-04-05 17:35",
         "Honor Play 40 5G",
         "7_years_from_now"
        ],
        [
         "2",
         "700357357",
         "qqqqq美女",
         "5",
         "刺激，感受到了友情，亲情，自我，爱慕，传承，等待 ，与纯真",
         "1.0",
         "2025-04-04 22:59",
         "OPPO PGGM10",
         "7_years_from_now"
        ],
        [
         "3",
         "402380140",
         "User402380140",
         "5",
         "毋庸置疑的神作<br />第一次回溯时间的是葵啊",
         "2.0",
         "2025-04-03 09:48",
         "Redmi Note 10 Pro",
         "7_years_from_now"
        ],
        [
         "4",
         "434114561",
         "不忆往事",
         "5",
         "没有别的可以说，剧情神作",
         "1.0",
         "2025-04-03 01:08",
         "Vivo V2148A",
         "7_years_from_now"
        ]
       ],
       "shape": {
        "columns": 8,
        "rows": 5
       }
      },
      "text/html": [
       "<div>\n",
       "<style scoped>\n",
       "    .dataframe tbody tr th:only-of-type {\n",
       "        vertical-align: middle;\n",
       "    }\n",
       "\n",
       "    .dataframe tbody tr th {\n",
       "        vertical-align: top;\n",
       "    }\n",
       "\n",
       "    .dataframe thead th {\n",
       "        text-align: right;\n",
       "    }\n",
       "</style>\n",
       "<table border=\"1\" class=\"dataframe\">\n",
       "  <thead>\n",
       "    <tr style=\"text-align: right;\">\n",
       "      <th></th>\n",
       "      <th>用户ID</th>\n",
       "      <th>用户名</th>\n",
       "      <th>评分</th>\n",
       "      <th>评论内容</th>\n",
       "      <th>点赞数</th>\n",
       "      <th>发布时间</th>\n",
       "      <th>设备型号</th>\n",
       "      <th>游戏名称</th>\n",
       "    </tr>\n",
       "  </thead>\n",
       "  <tbody>\n",
       "    <tr>\n",
       "      <th>0</th>\n",
       "      <td>696432312</td>\n",
       "      <td>。。。</td>\n",
       "      <td>5</td>\n",
       "      <td>可以体验一下，剧情不错，但可能会有点迷</td>\n",
       "      <td>NaN</td>\n",
       "      <td>2025-04-05 20:13</td>\n",
       "      <td>OPPO K7x中国版</td>\n",
       "      <td>7_years_from_now</td>\n",
       "    </tr>\n",
       "    <tr>\n",
       "      <th>1</th>\n",
       "      <td>679295528</td>\n",
       "      <td>云淡风轻</td>\n",
       "      <td>5</td>\n",
       "      <td>剧情很好</td>\n",
       "      <td>NaN</td>\n",
       "      <td>2025-04-05 17:35</td>\n",
       "      <td>Honor Play 40 5G</td>\n",
       "      <td>7_years_from_now</td>\n",
       "    </tr>\n",
       "    <tr>\n",
       "      <th>2</th>\n",
       "      <td>700357357</td>\n",
       "      <td>qqqqq美女</td>\n",
       "      <td>5</td>\n",
       "      <td>刺激，感受到了友情，亲情，自我，爱慕，传承，等待 ，与纯真</td>\n",
       "      <td>1.0</td>\n",
       "      <td>2025-04-04 22:59</td>\n",
       "      <td>OPPO PGGM10</td>\n",
       "      <td>7_years_from_now</td>\n",
       "    </tr>\n",
       "    <tr>\n",
       "      <th>3</th>\n",
       "      <td>402380140</td>\n",
       "      <td>User402380140</td>\n",
       "      <td>5</td>\n",
       "      <td>毋庸置疑的神作&lt;br /&gt;第一次回溯时间的是葵啊</td>\n",
       "      <td>2.0</td>\n",
       "      <td>2025-04-03 09:48</td>\n",
       "      <td>Redmi Note 10 Pro</td>\n",
       "      <td>7_years_from_now</td>\n",
       "    </tr>\n",
       "    <tr>\n",
       "      <th>4</th>\n",
       "      <td>434114561</td>\n",
       "      <td>不忆往事</td>\n",
       "      <td>5</td>\n",
       "      <td>没有别的可以说，剧情神作</td>\n",
       "      <td>1.0</td>\n",
       "      <td>2025-04-03 01:08</td>\n",
       "      <td>Vivo V2148A</td>\n",
       "      <td>7_years_from_now</td>\n",
       "    </tr>\n",
       "  </tbody>\n",
       "</table>\n",
       "</div>"
      ],
      "text/plain": [
       "        用户ID            用户名  评分                           评论内容  点赞数  \\\n",
       "0  696432312            。。。   5            可以体验一下，剧情不错，但可能会有点迷  NaN   \n",
       "1  679295528           云淡风轻   5                           剧情很好  NaN   \n",
       "2  700357357        qqqqq美女   5  刺激，感受到了友情，亲情，自我，爱慕，传承，等待 ，与纯真  1.0   \n",
       "3  402380140  User402380140   5       毋庸置疑的神作<br />第一次回溯时间的是葵啊  2.0   \n",
       "4  434114561           不忆往事   5                   没有别的可以说，剧情神作  1.0   \n",
       "\n",
       "               发布时间               设备型号              游戏名称  \n",
       "0  2025-04-05 20:13        OPPO K7x中国版  7_years_from_now  \n",
       "1  2025-04-05 17:35   Honor Play 40 5G  7_years_from_now  \n",
       "2  2025-04-04 22:59        OPPO PGGM10  7_years_from_now  \n",
       "3  2025-04-03 09:48  Redmi Note 10 Pro  7_years_from_now  \n",
       "4  2025-04-03 01:08        Vivo V2148A  7_years_from_now  "
      ]
     },
     "execution_count": 7,
     "metadata": {},
     "output_type": "execute_result"
    }
   ],
   "source": [
    "print(f\"合并完成！总记录数：{len(combined_df):,}\")\n",
    "print(\"首行示例：\")\n",
    "combined_df.head()"
   ]
  }
 ],
 "metadata": {
  "kernelspec": {
   "display_name": "IS6941",
   "language": "python",
   "name": "python3"
  },
  "language_info": {
   "codemirror_mode": {
    "name": "ipython",
    "version": 3
   },
   "file_extension": ".py",
   "mimetype": "text/x-python",
   "name": "python",
   "nbconvert_exporter": "python",
   "pygments_lexer": "ipython3",
   "version": "3.13.2"
  }
 },
 "nbformat": 4,
 "nbformat_minor": 5
}
